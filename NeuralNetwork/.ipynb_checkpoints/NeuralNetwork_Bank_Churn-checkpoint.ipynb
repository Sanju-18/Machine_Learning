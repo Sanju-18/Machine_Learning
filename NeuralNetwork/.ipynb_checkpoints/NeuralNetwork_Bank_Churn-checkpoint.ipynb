{
  "nbformat": 4,
  "nbformat_minor": 0,
  "metadata": {
    "colab": {
      "name": "NeuralNetwork_Bank_Churn.ipynb",
      "provenance": [],
      "collapsed_sections": []
    },
    "kernelspec": {
      "name": "python3",
      "display_name": "Python 3"
    },
    "accelerator": "GPU"
  },
  "cells": [
    {
      "cell_type": "markdown",
      "metadata": {
        "id": "XH0fz14FvBD7",
        "colab_type": "text"
      },
      "source": [
        "## Bank Churn Prediction\n",
        "\n",
        "### Objective:\n",
        "<blockquote>Given a Bank customer, build a neural network based classifier that can determine whether they will leave or not in the next 6 months. </blockquote>\n",
        "\n",
        "### Context:\n",
        "<blockquote> Businesses like banks which provide service have to worry about problem of 'Churn' i.e. customers leaving and joining another service provider. It is important to understand which aspects of the service influence a customer's decision in this regard. Management can concentrate efforts on improvement of service, keeping in mind these priorities.</blockquote>\n",
        "\n",
        "### Data Description:\n",
        "<blockquote>The case study is from an open-source dataset from Kaggle.\n",
        "The dataset contains 10,000 sample points with 14 distinct features such as CustomerId, CreditScore, Geography, Gender, Age, Tenure, Balance etc.\n",
        "Link to the Kaggle project site:\n",
        "https://www.kaggle.com/barelydedicated/bank-customer-churn-modeling</blockquote>\n",
        "\n",
        "### Points Distribution:\n",
        "<blockquote> The points distribution for this case is as follows:\n",
        "<ol>\n",
        "<li>Read the dataset</li>\n",
        "<li>Drop the columns which are unique for all users like IDs (5 points)</li>\n",
        "<li>Distinguish the feature and target set (5 points)</li>\n",
        "<li>Divide the data set into training and test sets (5 points)</li>\n",
        "<li>Normalize the train and test data (10 points)</li>\n",
        "<li>Initialize & build the model. Identify the points of improvement and implement the same the same.(20)</li>\n",
        "<li>Predict the results using 0.5 as a threshold (10 points)</li>\n",
        "<li>Print the Accuracy score and confusion matrix (5 points)</li>\n",
        "</ol>\n",
        "</blockquote>\n"
      ]
    },
    {
      "cell_type": "code",
      "metadata": {
        "id": "i469Wje3uMv9",
        "colab_type": "code",
        "colab": {
          "base_uri": "https://localhost:8080/",
          "height": 71
        },
        "outputId": "dec3e037-a339-494f-c106-fd7789065a42"
      },
      "source": [
        "import pandas as pd\n",
        "import seaborn as sns\n",
        "import matplotlib.pyplot as plt\n",
        "%matplotlib inline\n",
        "\n",
        "from sklearn import preprocessing\n",
        "from sklearn.preprocessing import StandardScaler\n",
        "from sklearn.preprocessing import LabelEncoder, OneHotEncoder\n",
        "from sklearn.model_selection import train_test_split\n",
        "\n",
        "from tensorflow.keras.models import Sequential\n",
        "from tensorflow.keras.layers import Dense\n",
        "from tensorflow.keras import optimizers\n",
        "from sklearn.metrics import confusion_matrix"
      ],
      "execution_count": 1,
      "outputs": [
        {
          "output_type": "stream",
          "text": [
            "/usr/local/lib/python3.6/dist-packages/statsmodels/tools/_testing.py:19: FutureWarning: pandas.util.testing is deprecated. Use the functions in the public API at pandas.testing instead.\n",
            "  import pandas.util.testing as tm\n"
          ],
          "name": "stderr"
        }
      ]
    },
    {
      "cell_type": "code",
      "metadata": {
        "id": "JCRTO9kLuc3i",
        "colab_type": "code",
        "colab": {
          "base_uri": "https://localhost:8080/",
          "height": 34
        },
        "outputId": "cab9dad3-69cd-47a1-9906-376d0a80e62c"
      },
      "source": [
        "from google.colab import drive\n",
        "drive.mount('/content/drive/')"
      ],
      "execution_count": 2,
      "outputs": [
        {
          "output_type": "stream",
          "text": [
            "Drive already mounted at /content/drive/; to attempt to forcibly remount, call drive.mount(\"/content/drive/\", force_remount=True).\n"
          ],
          "name": "stdout"
        }
      ]
    },
    {
      "cell_type": "code",
      "metadata": {
        "id": "sW02EKMIunY3",
        "colab_type": "code",
        "colab": {}
      },
      "source": [
        "project_path = '/content/drive/My Drive/Tutorial/AIML PGP great learnings/Asset/Project#6-NeuralNetwork/'\n",
        "dataset_file = project_path+'bank.csv'"
      ],
      "execution_count": 0,
      "outputs": []
    },
    {
      "cell_type": "code",
      "metadata": {
        "id": "9MNTS-pCu7m6",
        "colab_type": "code",
        "colab": {
          "base_uri": "https://localhost:8080/",
          "height": 34
        },
        "outputId": "cef6ca35-1418-4b33-daa6-195db2e1e787"
      },
      "source": [
        "df=pd.read_csv(dataset_file)\n",
        "df.shape # Get the dataset shape"
      ],
      "execution_count": 4,
      "outputs": [
        {
          "output_type": "execute_result",
          "data": {
            "text/plain": [
              "(10000, 14)"
            ]
          },
          "metadata": {
            "tags": []
          },
          "execution_count": 4
        }
      ]
    },
    {
      "cell_type": "code",
      "metadata": {
        "id": "PnD4gp45u_Nm",
        "colab_type": "code",
        "colab": {
          "base_uri": "https://localhost:8080/",
          "height": 204
        },
        "outputId": "0f5d71d6-e308-4375-fb26-1f07a0ed67db"
      },
      "source": [
        "df.head() #Print first 5 records"
      ],
      "execution_count": 5,
      "outputs": [
        {
          "output_type": "execute_result",
          "data": {
            "text/html": [
              "<div>\n",
              "<style scoped>\n",
              "    .dataframe tbody tr th:only-of-type {\n",
              "        vertical-align: middle;\n",
              "    }\n",
              "\n",
              "    .dataframe tbody tr th {\n",
              "        vertical-align: top;\n",
              "    }\n",
              "\n",
              "    .dataframe thead th {\n",
              "        text-align: right;\n",
              "    }\n",
              "</style>\n",
              "<table border=\"1\" class=\"dataframe\">\n",
              "  <thead>\n",
              "    <tr style=\"text-align: right;\">\n",
              "      <th></th>\n",
              "      <th>RowNumber</th>\n",
              "      <th>CustomerId</th>\n",
              "      <th>Surname</th>\n",
              "      <th>CreditScore</th>\n",
              "      <th>Geography</th>\n",
              "      <th>Gender</th>\n",
              "      <th>Age</th>\n",
              "      <th>Tenure</th>\n",
              "      <th>Balance</th>\n",
              "      <th>NumOfProducts</th>\n",
              "      <th>HasCrCard</th>\n",
              "      <th>IsActiveMember</th>\n",
              "      <th>EstimatedSalary</th>\n",
              "      <th>Exited</th>\n",
              "    </tr>\n",
              "  </thead>\n",
              "  <tbody>\n",
              "    <tr>\n",
              "      <th>0</th>\n",
              "      <td>1</td>\n",
              "      <td>15634602</td>\n",
              "      <td>Hargrave</td>\n",
              "      <td>619</td>\n",
              "      <td>France</td>\n",
              "      <td>Female</td>\n",
              "      <td>42</td>\n",
              "      <td>2</td>\n",
              "      <td>0.00</td>\n",
              "      <td>1</td>\n",
              "      <td>1</td>\n",
              "      <td>1</td>\n",
              "      <td>101348.88</td>\n",
              "      <td>1</td>\n",
              "    </tr>\n",
              "    <tr>\n",
              "      <th>1</th>\n",
              "      <td>2</td>\n",
              "      <td>15647311</td>\n",
              "      <td>Hill</td>\n",
              "      <td>608</td>\n",
              "      <td>Spain</td>\n",
              "      <td>Female</td>\n",
              "      <td>41</td>\n",
              "      <td>1</td>\n",
              "      <td>83807.86</td>\n",
              "      <td>1</td>\n",
              "      <td>0</td>\n",
              "      <td>1</td>\n",
              "      <td>112542.58</td>\n",
              "      <td>0</td>\n",
              "    </tr>\n",
              "    <tr>\n",
              "      <th>2</th>\n",
              "      <td>3</td>\n",
              "      <td>15619304</td>\n",
              "      <td>Onio</td>\n",
              "      <td>502</td>\n",
              "      <td>France</td>\n",
              "      <td>Female</td>\n",
              "      <td>42</td>\n",
              "      <td>8</td>\n",
              "      <td>159660.80</td>\n",
              "      <td>3</td>\n",
              "      <td>1</td>\n",
              "      <td>0</td>\n",
              "      <td>113931.57</td>\n",
              "      <td>1</td>\n",
              "    </tr>\n",
              "    <tr>\n",
              "      <th>3</th>\n",
              "      <td>4</td>\n",
              "      <td>15701354</td>\n",
              "      <td>Boni</td>\n",
              "      <td>699</td>\n",
              "      <td>France</td>\n",
              "      <td>Female</td>\n",
              "      <td>39</td>\n",
              "      <td>1</td>\n",
              "      <td>0.00</td>\n",
              "      <td>2</td>\n",
              "      <td>0</td>\n",
              "      <td>0</td>\n",
              "      <td>93826.63</td>\n",
              "      <td>0</td>\n",
              "    </tr>\n",
              "    <tr>\n",
              "      <th>4</th>\n",
              "      <td>5</td>\n",
              "      <td>15737888</td>\n",
              "      <td>Mitchell</td>\n",
              "      <td>850</td>\n",
              "      <td>Spain</td>\n",
              "      <td>Female</td>\n",
              "      <td>43</td>\n",
              "      <td>2</td>\n",
              "      <td>125510.82</td>\n",
              "      <td>1</td>\n",
              "      <td>1</td>\n",
              "      <td>1</td>\n",
              "      <td>79084.10</td>\n",
              "      <td>0</td>\n",
              "    </tr>\n",
              "  </tbody>\n",
              "</table>\n",
              "</div>"
            ],
            "text/plain": [
              "   RowNumber  CustomerId   Surname  ...  IsActiveMember EstimatedSalary Exited\n",
              "0          1    15634602  Hargrave  ...               1       101348.88      1\n",
              "1          2    15647311      Hill  ...               1       112542.58      0\n",
              "2          3    15619304      Onio  ...               0       113931.57      1\n",
              "3          4    15701354      Boni  ...               0        93826.63      0\n",
              "4          5    15737888  Mitchell  ...               1        79084.10      0\n",
              "\n",
              "[5 rows x 14 columns]"
            ]
          },
          "metadata": {
            "tags": []
          },
          "execution_count": 5
        }
      ]
    },
    {
      "cell_type": "markdown",
      "metadata": {
        "id": "Ap8H3APTyn4v",
        "colab_type": "text"
      },
      "source": [
        "### EDA"
      ]
    },
    {
      "cell_type": "markdown",
      "metadata": {
        "id": "j1xFRSOOxJ4r",
        "colab_type": "text"
      },
      "source": [
        "##### Drop the unwanted/unique columns\n",
        "\n",
        "In this dataset, the following columns has unique data which wouldn't be useful for model building, let's drop it\n",
        "1. RowNumber\n",
        "2. Customer ID"
      ]
    },
    {
      "cell_type": "code",
      "metadata": {
        "id": "TRKp0m_yxMt7",
        "colab_type": "code",
        "colab": {
          "base_uri": "https://localhost:8080/",
          "height": 34
        },
        "outputId": "b2b3b42f-e75e-4007-e693-acea18aa87a0"
      },
      "source": [
        "df.drop(columns=['RowNumber','CustomerId'], axis=1, inplace=True) \n",
        "df.shape # Dataset shape after the dropcolumn"
      ],
      "execution_count": 6,
      "outputs": [
        {
          "output_type": "execute_result",
          "data": {
            "text/plain": [
              "(10000, 12)"
            ]
          },
          "metadata": {
            "tags": []
          },
          "execution_count": 6
        }
      ]
    },
    {
      "cell_type": "code",
      "metadata": {
        "id": "vjYx8umsxkEZ",
        "colab_type": "code",
        "colab": {
          "base_uri": "https://localhost:8080/",
          "height": 340
        },
        "outputId": "e4861bf4-539b-43d7-e88f-1bd49498f6b7"
      },
      "source": [
        "df.info() # Print information about the dataset"
      ],
      "execution_count": 7,
      "outputs": [
        {
          "output_type": "stream",
          "text": [
            "<class 'pandas.core.frame.DataFrame'>\n",
            "RangeIndex: 10000 entries, 0 to 9999\n",
            "Data columns (total 12 columns):\n",
            " #   Column           Non-Null Count  Dtype  \n",
            "---  ------           --------------  -----  \n",
            " 0   Surname          10000 non-null  object \n",
            " 1   CreditScore      10000 non-null  int64  \n",
            " 2   Geography        10000 non-null  object \n",
            " 3   Gender           10000 non-null  object \n",
            " 4   Age              10000 non-null  int64  \n",
            " 5   Tenure           10000 non-null  int64  \n",
            " 6   Balance          10000 non-null  float64\n",
            " 7   NumOfProducts    10000 non-null  int64  \n",
            " 8   HasCrCard        10000 non-null  int64  \n",
            " 9   IsActiveMember   10000 non-null  int64  \n",
            " 10  EstimatedSalary  10000 non-null  float64\n",
            " 11  Exited           10000 non-null  int64  \n",
            "dtypes: float64(2), int64(7), object(3)\n",
            "memory usage: 937.6+ KB\n"
          ],
          "name": "stdout"
        }
      ]
    },
    {
      "cell_type": "code",
      "metadata": {
        "id": "HIqxjc7exoES",
        "colab_type": "code",
        "colab": {
          "base_uri": "https://localhost:8080/",
          "height": 328
        },
        "outputId": "01529edf-aafd-4962-c0d9-a5f07c1004a3"
      },
      "source": [
        "df.describe().T # Print the description about the dataset"
      ],
      "execution_count": 8,
      "outputs": [
        {
          "output_type": "execute_result",
          "data": {
            "text/html": [
              "<div>\n",
              "<style scoped>\n",
              "    .dataframe tbody tr th:only-of-type {\n",
              "        vertical-align: middle;\n",
              "    }\n",
              "\n",
              "    .dataframe tbody tr th {\n",
              "        vertical-align: top;\n",
              "    }\n",
              "\n",
              "    .dataframe thead th {\n",
              "        text-align: right;\n",
              "    }\n",
              "</style>\n",
              "<table border=\"1\" class=\"dataframe\">\n",
              "  <thead>\n",
              "    <tr style=\"text-align: right;\">\n",
              "      <th></th>\n",
              "      <th>count</th>\n",
              "      <th>mean</th>\n",
              "      <th>std</th>\n",
              "      <th>min</th>\n",
              "      <th>25%</th>\n",
              "      <th>50%</th>\n",
              "      <th>75%</th>\n",
              "      <th>max</th>\n",
              "    </tr>\n",
              "  </thead>\n",
              "  <tbody>\n",
              "    <tr>\n",
              "      <th>CreditScore</th>\n",
              "      <td>10000.0</td>\n",
              "      <td>650.528800</td>\n",
              "      <td>96.653299</td>\n",
              "      <td>350.00</td>\n",
              "      <td>584.00</td>\n",
              "      <td>652.000</td>\n",
              "      <td>718.0000</td>\n",
              "      <td>850.00</td>\n",
              "    </tr>\n",
              "    <tr>\n",
              "      <th>Age</th>\n",
              "      <td>10000.0</td>\n",
              "      <td>38.921800</td>\n",
              "      <td>10.487806</td>\n",
              "      <td>18.00</td>\n",
              "      <td>32.00</td>\n",
              "      <td>37.000</td>\n",
              "      <td>44.0000</td>\n",
              "      <td>92.00</td>\n",
              "    </tr>\n",
              "    <tr>\n",
              "      <th>Tenure</th>\n",
              "      <td>10000.0</td>\n",
              "      <td>5.012800</td>\n",
              "      <td>2.892174</td>\n",
              "      <td>0.00</td>\n",
              "      <td>3.00</td>\n",
              "      <td>5.000</td>\n",
              "      <td>7.0000</td>\n",
              "      <td>10.00</td>\n",
              "    </tr>\n",
              "    <tr>\n",
              "      <th>Balance</th>\n",
              "      <td>10000.0</td>\n",
              "      <td>76485.889288</td>\n",
              "      <td>62397.405202</td>\n",
              "      <td>0.00</td>\n",
              "      <td>0.00</td>\n",
              "      <td>97198.540</td>\n",
              "      <td>127644.2400</td>\n",
              "      <td>250898.09</td>\n",
              "    </tr>\n",
              "    <tr>\n",
              "      <th>NumOfProducts</th>\n",
              "      <td>10000.0</td>\n",
              "      <td>1.530200</td>\n",
              "      <td>0.581654</td>\n",
              "      <td>1.00</td>\n",
              "      <td>1.00</td>\n",
              "      <td>1.000</td>\n",
              "      <td>2.0000</td>\n",
              "      <td>4.00</td>\n",
              "    </tr>\n",
              "    <tr>\n",
              "      <th>HasCrCard</th>\n",
              "      <td>10000.0</td>\n",
              "      <td>0.705500</td>\n",
              "      <td>0.455840</td>\n",
              "      <td>0.00</td>\n",
              "      <td>0.00</td>\n",
              "      <td>1.000</td>\n",
              "      <td>1.0000</td>\n",
              "      <td>1.00</td>\n",
              "    </tr>\n",
              "    <tr>\n",
              "      <th>IsActiveMember</th>\n",
              "      <td>10000.0</td>\n",
              "      <td>0.515100</td>\n",
              "      <td>0.499797</td>\n",
              "      <td>0.00</td>\n",
              "      <td>0.00</td>\n",
              "      <td>1.000</td>\n",
              "      <td>1.0000</td>\n",
              "      <td>1.00</td>\n",
              "    </tr>\n",
              "    <tr>\n",
              "      <th>EstimatedSalary</th>\n",
              "      <td>10000.0</td>\n",
              "      <td>100090.239881</td>\n",
              "      <td>57510.492818</td>\n",
              "      <td>11.58</td>\n",
              "      <td>51002.11</td>\n",
              "      <td>100193.915</td>\n",
              "      <td>149388.2475</td>\n",
              "      <td>199992.48</td>\n",
              "    </tr>\n",
              "    <tr>\n",
              "      <th>Exited</th>\n",
              "      <td>10000.0</td>\n",
              "      <td>0.203700</td>\n",
              "      <td>0.402769</td>\n",
              "      <td>0.00</td>\n",
              "      <td>0.00</td>\n",
              "      <td>0.000</td>\n",
              "      <td>0.0000</td>\n",
              "      <td>1.00</td>\n",
              "    </tr>\n",
              "  </tbody>\n",
              "</table>\n",
              "</div>"
            ],
            "text/plain": [
              "                   count           mean  ...          75%        max\n",
              "CreditScore      10000.0     650.528800  ...     718.0000     850.00\n",
              "Age              10000.0      38.921800  ...      44.0000      92.00\n",
              "Tenure           10000.0       5.012800  ...       7.0000      10.00\n",
              "Balance          10000.0   76485.889288  ...  127644.2400  250898.09\n",
              "NumOfProducts    10000.0       1.530200  ...       2.0000       4.00\n",
              "HasCrCard        10000.0       0.705500  ...       1.0000       1.00\n",
              "IsActiveMember   10000.0       0.515100  ...       1.0000       1.00\n",
              "EstimatedSalary  10000.0  100090.239881  ...  149388.2475  199992.48\n",
              "Exited           10000.0       0.203700  ...       0.0000       1.00\n",
              "\n",
              "[9 rows x 8 columns]"
            ]
          },
          "metadata": {
            "tags": []
          },
          "execution_count": 8
        }
      ]
    },
    {
      "cell_type": "markdown",
      "metadata": {
        "id": "bTtBO0gXx0Ot",
        "colab_type": "text"
      },
      "source": [
        " From above data description, \n",
        "the balance column should have outlier on positive side (Positive skewness) and IsActiveMember is negatively skewed. "
      ]
    },
    {
      "cell_type": "code",
      "metadata": {
        "id": "plg_2E76xxap",
        "colab_type": "code",
        "colab": {
          "base_uri": "https://localhost:8080/",
          "height": 238
        },
        "outputId": "8083fa55-2050-45b9-e76a-14b1b4256547"
      },
      "source": [
        "df.isnull().sum() \n",
        "# There is no null value in the dataset"
      ],
      "execution_count": 9,
      "outputs": [
        {
          "output_type": "execute_result",
          "data": {
            "text/plain": [
              "Surname            0\n",
              "CreditScore        0\n",
              "Geography          0\n",
              "Gender             0\n",
              "Age                0\n",
              "Tenure             0\n",
              "Balance            0\n",
              "NumOfProducts      0\n",
              "HasCrCard          0\n",
              "IsActiveMember     0\n",
              "EstimatedSalary    0\n",
              "Exited             0\n",
              "dtype: int64"
            ]
          },
          "metadata": {
            "tags": []
          },
          "execution_count": 9
        }
      ]
    },
    {
      "cell_type": "code",
      "metadata": {
        "id": "qqoao2M5ySvh",
        "colab_type": "code",
        "colab": {
          "base_uri": "https://localhost:8080/",
          "height": 153
        },
        "outputId": "9b66985a-3799-4a20-8722-598343698b8e"
      },
      "source": [
        "print(\"Value counts:\\n\",df['Exited'].value_counts())\n",
        "print(\"Value counts in percentage:\\n\", df['Exited'].value_counts(normalize=True)*100)"
      ],
      "execution_count": 100,
      "outputs": [
        {
          "output_type": "stream",
          "text": [
            "Value counts:\n",
            " 0    7963\n",
            "1    2037\n",
            "Name: Exited, dtype: int64\n",
            "Value counts in percentage:\n",
            " 0    79.63\n",
            "1    20.37\n",
            "Name: Exited, dtype: float64\n"
          ],
          "name": "stdout"
        }
      ]
    },
    {
      "cell_type": "markdown",
      "metadata": {
        "id": "CiyTf7Ghz9vX",
        "colab_type": "text"
      },
      "source": [
        "This is an imbalanced dataset since the target column is distributed as 80%-20%"
      ]
    },
    {
      "cell_type": "markdown",
      "metadata": {
        "id": "L--2eIRH0fLx",
        "colab_type": "text"
      },
      "source": [
        "#### Visualizing the Data"
      ]
    },
    {
      "cell_type": "code",
      "metadata": {
        "id": "JKTjfRW90go1",
        "colab_type": "code",
        "colab": {
          "base_uri": "https://localhost:8080/",
          "height": 576
        },
        "outputId": "6d95034f-da40-4bb8-d92a-fb77ba35f0a6"
      },
      "source": [
        "plt.figure(figsize=(16,8))\n",
        "sns.heatmap(data=df.corr(method='pearson', min_periods=1), cmap='YlGnBu', annot=True,)"
      ],
      "execution_count": 11,
      "outputs": [
        {
          "output_type": "execute_result",
          "data": {
            "text/plain": [
              "<matplotlib.axes._subplots.AxesSubplot at 0x7fbc2497e2b0>"
            ]
          },
          "metadata": {
            "tags": []
          },
          "execution_count": 11
        },
        {
          "output_type": "display_data",
          "data": {
            "image/png": "[encoded data removed]",
            "text/plain": [
              "<Figure size 1152x576 with 2 Axes>"
            ]
          },
          "metadata": {
            "tags": [],
            "needs_background": "light"
          }
        }
      ]
    },
    {
      "cell_type": "markdown",
      "metadata": {
        "id": "skZhfgzr2n0W",
        "colab_type": "text"
      },
      "source": [
        "From above diagram, there is no positive or negative coordination between any columns"
      ]
    },
    {
      "cell_type": "code",
      "metadata": {
        "id": "b85AyPBJ3Tue",
        "colab_type": "code",
        "colab": {
          "base_uri": "https://localhost:8080/",
          "height": 296
        },
        "outputId": "fce98857-c9c1-4d4c-d460-833f923a5a60"
      },
      "source": [
        "print('Exited Customers based on HasCreditCard', sns.countplot(x=df['HasCrCard'], hue=df['Exited'], linewidth=2))"
      ],
      "execution_count": 19,
      "outputs": [
        {
          "output_type": "stream",
          "text": [
            "Exited Customers based on Gender AxesSubplot(0.125,0.125;0.775x0.755)\n"
          ],
          "name": "stdout"
        },
        {
          "output_type": "display_data",
          "data": {
            "image/png": "[encoded data removed]",
            "text/plain": [
              "<Figure size 432x288 with 1 Axes>"
            ]
          },
          "metadata": {
            "tags": [],
            "needs_background": "light"
          }
        }
      ]
    },
    {
      "cell_type": "code",
      "metadata": {
        "id": "fADD07vK0x2O",
        "colab_type": "code",
        "colab": {
          "base_uri": "https://localhost:8080/",
          "height": 307
        },
        "outputId": "2a48d396-1b57-40a1-d4b8-a1683afbc06d"
      },
      "source": [
        "print('Customer Estimated Salary:', sns.distplot(df['EstimatedSalary'], rug=True))"
      ],
      "execution_count": 21,
      "outputs": [
        {
          "output_type": "stream",
          "text": [
            "Customer Estimated Salary: AxesSubplot(0.125,0.125;0.775x0.755)\n"
          ],
          "name": "stdout"
        },
        {
          "output_type": "display_data",
          "data": {
            "image/png": "[encoded data removed]",
            "text/plain": [
              "<Figure size 432x288 with 1 Axes>"
            ]
          },
          "metadata": {
            "tags": [],
            "needs_background": "light"
          }
        }
      ]
    },
    {
      "cell_type": "code",
      "metadata": {
        "id": "GgKRHo5qEP2d",
        "colab_type": "code",
        "colab": {
          "base_uri": "https://localhost:8080/",
          "height": 307
        },
        "outputId": "9c8521ca-6d25-4236-e5ec-1c690078f7bc"
      },
      "source": [
        "print('Customer Balance:', sns.distplot(df['Balance'], rug=True))"
      ],
      "execution_count": 22,
      "outputs": [
        {
          "output_type": "stream",
          "text": [
            "Customer Balance: AxesSubplot(0.125,0.125;0.775x0.755)\n"
          ],
          "name": "stdout"
        },
        {
          "output_type": "display_data",
          "data": {
            "image/png": "[encoded data removed]",
            "text/plain": [
              "<Figure size 432x288 with 1 Axes>"
            ]
          },
          "metadata": {
            "tags": [],
            "needs_background": "light"
          }
        }
      ]
    },
    {
      "cell_type": "code",
      "metadata": {
        "id": "NJHYZnFg3bzj",
        "colab_type": "code",
        "colab": {
          "base_uri": "https://localhost:8080/",
          "height": 296
        },
        "outputId": "2ac695d3-ac5e-4a53-9a31-fd0201ae803a"
      },
      "source": [
        "print('Customer age group:', sns.distplot(df['Age'], rug=True))"
      ],
      "execution_count": 33,
      "outputs": [
        {
          "output_type": "stream",
          "text": [
            "Customer age group: AxesSubplot(0.125,0.125;0.775x0.755)\n"
          ],
          "name": "stdout"
        },
        {
          "output_type": "display_data",
          "data": {
            "image/png": "[encoded data removed]",
            "text/plain": [
              "<Figure size 432x288 with 1 Axes>"
            ]
          },
          "metadata": {
            "tags": [],
            "needs_background": "light"
          }
        }
      ]
    },
    {
      "cell_type": "code",
      "metadata": {
        "id": "xM5SxbLx5pne",
        "colab_type": "code",
        "colab": {
          "base_uri": "https://localhost:8080/",
          "height": 315
        },
        "outputId": "2ee2089c-be18-4063-b80d-cbbf03f8f9cc"
      },
      "source": [
        "\n",
        "def binning(col, cut_points, label):\n",
        "    minval = col.min()\n",
        "    maxval = col.max()\n",
        "    print(minval, maxval)\n",
        "    \n",
        "    break_points = [minval]+ cut_points+[maxval]\n",
        "    colBin = pd.cut(col, bins = break_points, labels=label, include_lowest=True)\n",
        "    return colBin\n",
        "\n",
        "# cut_bins = [25000, 50000, 75000, 100000,125000,150000]\n",
        "cut_bins = [30000, 60000, 90000, 120000, 150000, 175000]\n",
        "labels = ['very low','low','medium','above medium','high','very_high','super_high']\n",
        "df['EstimatedSalary_range'] = binning(df['EstimatedSalary'], cut_bins, labels)\n",
        "df['EstimatedSalary_range'].value_counts()\n",
        "\n",
        "print('Customer Estimated salary with Gender:', sns.countplot(df['EstimatedSalary_range'], hue=df['Exited'], linewidth=2))\n",
        "df.drop('EstimatedSalary_range', axis=1, inplace=True) # Remove newly created column"
      ],
      "execution_count": 106,
      "outputs": [
        {
          "output_type": "stream",
          "text": [
            "11.58 199992.48\n",
            "Customer Estimated salary with Gender: AxesSubplot(0.125,0.125;0.775x0.755)\n"
          ],
          "name": "stdout"
        },
        {
          "output_type": "display_data",
          "data": {
            "image/png": "[encoded data removed]",
            "text/plain": [
              "<Figure size 432x288 with 1 Axes>"
            ]
          },
          "metadata": {
            "tags": [],
            "needs_background": "light"
          }
        }
      ]
    },
    {
      "cell_type": "code",
      "metadata": {
        "id": "0zD7tgAA33g_",
        "colab_type": "code",
        "colab": {
          "base_uri": "https://localhost:8080/",
          "height": 351
        },
        "outputId": "ae7858fd-8755-4aa9-a6e0-e796290ff3e6"
      },
      "source": [
        "plt.figure(figsize=(8,5))\n",
        "print('Exited Customers based on Gender', sns.countplot(df['Gender'], hue=df['Exited'], linewidth=2))"
      ],
      "execution_count": 23,
      "outputs": [
        {
          "output_type": "stream",
          "text": [
            "Exited Customers based on Gender AxesSubplot(0.125,0.125;0.775x0.755)\n"
          ],
          "name": "stdout"
        },
        {
          "output_type": "display_data",
          "data": {
            "image/png": "[encoded data removed]",
            "text/plain": [
              "<Figure size 576x360 with 1 Axes>"
            ]
          },
          "metadata": {
            "tags": [],
            "needs_background": "light"
          }
        }
      ]
    },
    {
      "cell_type": "markdown",
      "metadata": {
        "id": "4uYNib0u4pRN",
        "colab_type": "text"
      },
      "source": [
        "From above diagram, the ratio of female gender leaving the bank is high compare with male, also exited customer count is high on male. "
      ]
    },
    {
      "cell_type": "code",
      "metadata": {
        "id": "5WEylEKb4lfD",
        "colab_type": "code",
        "colab": {
          "base_uri": "https://localhost:8080/",
          "height": 85
        },
        "outputId": "704e0956-656b-4f56-9d4a-97ffbac1dfeb"
      },
      "source": [
        "# total_in_active = len(df[df['IsActiveMember']==0])\n",
        "# total_in_inactive = len(df[df['IsActiveMember']==1])\n",
        "# total_in_active, total_in_inactive\n",
        "# df[df['IsActiveMember']== df['Exited']]\n",
        "\n",
        "active_but_exited = len(df[ (df['IsActiveMember']==0) & (df['Exited']==1) ])\n",
        "inactive_and_exited = len(df[ (df['IsActiveMember']==1) & (df['Exited']==1) ])\n",
        "active_and_not_exited = len(df[ (df['IsActiveMember']==0) & (df['Exited']==0) ])\n",
        "inactive_and_not_exited = len(df[ (df['IsActiveMember']==1) & (df['Exited']==0) ])\n",
        "\n",
        "\n",
        "total_exited = len(df[df['Exited']==1])\n",
        "total_not_exited = len(df[df['Exited']==0])\n",
        "\n",
        "print('Customer exited but active percentage: {:.2f}%'.format((active_but_exited/total_exited)*100))\n",
        "print('Customer exited but not active percentage: {:.2f}%'.format((inactive_and_exited/total_exited)*100))\n",
        "\n",
        "print('Customer not exited and active percentage: {:.2f}%'.format((active_and_not_exited/total_not_exited)*100))\n",
        "print('Customer not exited but not active percentage: {:.2f}%'.format((inactive_and_not_exited/total_not_exited)*100))"
      ],
      "execution_count": 102,
      "outputs": [
        {
          "output_type": "stream",
          "text": [
            "Customer exited but active percentage: 63.92%\n",
            "Customer exited but not active percentage: 36.08%\n",
            "Customer not exited and active percentage: 44.54%\n",
            "Customer not exited but not active percentage: 55.46%\n"
          ],
          "name": "stdout"
        }
      ]
    },
    {
      "cell_type": "code",
      "metadata": {
        "id": "HQxGnIQZLhMG",
        "colab_type": "code",
        "colab": {
          "base_uri": "https://localhost:8080/",
          "height": 34
        },
        "outputId": "e1da8bce-3fc8-4e0e-9945-2908b8c1f937"
      },
      "source": [
        "print('Customer exited but not active count:', inactive_and_exited)"
      ],
      "execution_count": 103,
      "outputs": [
        {
          "output_type": "stream",
          "text": [
            "Customer exited but not active count: 735\n"
          ],
          "name": "stdout"
        }
      ]
    },
    {
      "cell_type": "markdown",
      "metadata": {
        "id": "MIHxGon4xUBc",
        "colab_type": "text"
      },
      "source": [
        "### Data Encoding and Train/Test Split"
      ]
    },
    {
      "cell_type": "code",
      "metadata": {
        "id": "GihGmabixomY",
        "colab_type": "code",
        "colab": {
          "base_uri": "https://localhost:8080/",
          "height": 34
        },
        "outputId": "444cbeb8-3f32-4fbc-a3e3-cbaf153b912f"
      },
      "source": [
        "# Get Target column\n",
        "X = df.drop(['Exited','Surname'], axis=1)\n",
        "y = df[['Exited']]\n",
        "X.shape, y.shape"
      ],
      "execution_count": 7,
      "outputs": [
        {
          "output_type": "execute_result",
          "data": {
            "text/plain": [
              "((10000, 10), (10000, 1))"
            ]
          },
          "metadata": {
            "tags": []
          },
          "execution_count": 7
        }
      ]
    },
    {
      "cell_type": "code",
      "metadata": {
        "id": "2RVbkXuIOeuf",
        "colab_type": "code",
        "colab": {}
      },
      "source": [
        "# Convert the categorical data (Geography and Gender) to numeric by adding OneHotEncoder\n",
        "# label = LabelEncoder()\n",
        "# X['Geography'] = label.fit_transform(X['Geography'])\n",
        "# X['Gender'] = label.fit_transform(X['Gender'])\n",
        "# onehotencoding = OneHotEncoder()\n",
        "# X = onehotencoding.fit_transform(X).toarray()\n"
      ],
      "execution_count": 0,
      "outputs": []
    },
    {
      "cell_type": "code",
      "metadata": {
        "id": "vLjFDEbLvWXH",
        "colab_type": "code",
        "colab": {
          "base_uri": "https://localhost:8080/",
          "height": 204
        },
        "outputId": "f6caa041-d6a8-4324-f44d-f70f07bc8fff"
      },
      "source": [
        "X = pd.get_dummies(X)\n",
        "X.head()"
      ],
      "execution_count": 9,
      "outputs": [
        {
          "output_type": "execute_result",
          "data": {
            "text/html": [
              "<div>\n",
              "<style scoped>\n",
              "    .dataframe tbody tr th:only-of-type {\n",
              "        vertical-align: middle;\n",
              "    }\n",
              "\n",
              "    .dataframe tbody tr th {\n",
              "        vertical-align: top;\n",
              "    }\n",
              "\n",
              "    .dataframe thead th {\n",
              "        text-align: right;\n",
              "    }\n",
              "</style>\n",
              "<table border=\"1\" class=\"dataframe\">\n",
              "  <thead>\n",
              "    <tr style=\"text-align: right;\">\n",
              "      <th></th>\n",
              "      <th>CreditScore</th>\n",
              "      <th>Age</th>\n",
              "      <th>Tenure</th>\n",
              "      <th>Balance</th>\n",
              "      <th>NumOfProducts</th>\n",
              "      <th>HasCrCard</th>\n",
              "      <th>IsActiveMember</th>\n",
              "      <th>EstimatedSalary</th>\n",
              "      <th>Geography_France</th>\n",
              "      <th>Geography_Germany</th>\n",
              "      <th>Geography_Spain</th>\n",
              "      <th>Gender_Female</th>\n",
              "      <th>Gender_Male</th>\n",
              "    </tr>\n",
              "  </thead>\n",
              "  <tbody>\n",
              "    <tr>\n",
              "      <th>0</th>\n",
              "      <td>619</td>\n",
              "      <td>42</td>\n",
              "      <td>2</td>\n",
              "      <td>0.00</td>\n",
              "      <td>1</td>\n",
              "      <td>1</td>\n",
              "      <td>1</td>\n",
              "      <td>101348.88</td>\n",
              "      <td>1</td>\n",
              "      <td>0</td>\n",
              "      <td>0</td>\n",
              "      <td>1</td>\n",
              "      <td>0</td>\n",
              "    </tr>\n",
              "    <tr>\n",
              "      <th>1</th>\n",
              "      <td>608</td>\n",
              "      <td>41</td>\n",
              "      <td>1</td>\n",
              "      <td>83807.86</td>\n",
              "      <td>1</td>\n",
              "      <td>0</td>\n",
              "      <td>1</td>\n",
              "      <td>112542.58</td>\n",
              "      <td>0</td>\n",
              "      <td>0</td>\n",
              "      <td>1</td>\n",
              "      <td>1</td>\n",
              "      <td>0</td>\n",
              "    </tr>\n",
              "    <tr>\n",
              "      <th>2</th>\n",
              "      <td>502</td>\n",
              "      <td>42</td>\n",
              "      <td>8</td>\n",
              "      <td>159660.80</td>\n",
              "      <td>3</td>\n",
              "      <td>1</td>\n",
              "      <td>0</td>\n",
              "      <td>113931.57</td>\n",
              "      <td>1</td>\n",
              "      <td>0</td>\n",
              "      <td>0</td>\n",
              "      <td>1</td>\n",
              "      <td>0</td>\n",
              "    </tr>\n",
              "    <tr>\n",
              "      <th>3</th>\n",
              "      <td>699</td>\n",
              "      <td>39</td>\n",
              "      <td>1</td>\n",
              "      <td>0.00</td>\n",
              "      <td>2</td>\n",
              "      <td>0</td>\n",
              "      <td>0</td>\n",
              "      <td>93826.63</td>\n",
              "      <td>1</td>\n",
              "      <td>0</td>\n",
              "      <td>0</td>\n",
              "      <td>1</td>\n",
              "      <td>0</td>\n",
              "    </tr>\n",
              "    <tr>\n",
              "      <th>4</th>\n",
              "      <td>850</td>\n",
              "      <td>43</td>\n",
              "      <td>2</td>\n",
              "      <td>125510.82</td>\n",
              "      <td>1</td>\n",
              "      <td>1</td>\n",
              "      <td>1</td>\n",
              "      <td>79084.10</td>\n",
              "      <td>0</td>\n",
              "      <td>0</td>\n",
              "      <td>1</td>\n",
              "      <td>1</td>\n",
              "      <td>0</td>\n",
              "    </tr>\n",
              "  </tbody>\n",
              "</table>\n",
              "</div>"
            ],
            "text/plain": [
              "   CreditScore  Age  Tenure  ...  Geography_Spain  Gender_Female  Gender_Male\n",
              "0          619   42       2  ...                0              1            0\n",
              "1          608   41       1  ...                1              1            0\n",
              "2          502   42       8  ...                0              1            0\n",
              "3          699   39       1  ...                0              1            0\n",
              "4          850   43       2  ...                1              1            0\n",
              "\n",
              "[5 rows x 13 columns]"
            ]
          },
          "metadata": {
            "tags": []
          },
          "execution_count": 9
        }
      ]
    },
    {
      "cell_type": "code",
      "metadata": {
        "id": "IZ6xJ91AxWFK",
        "colab_type": "code",
        "colab": {
          "base_uri": "https://localhost:8080/",
          "height": 34
        },
        "outputId": "0b118730-1d8c-41f5-e616-7dcced93ae66"
      },
      "source": [
        "X_train, X_test, y_train, y_test = train_test_split(X, y, test_size = 0.2, random_state = 0)\n",
        "X_train.shape, X_test.shape, y_train.shape, y_test.shape"
      ],
      "execution_count": 10,
      "outputs": [
        {
          "output_type": "execute_result",
          "data": {
            "text/plain": [
              "((8000, 13), (2000, 13), (8000, 1), (2000, 1))"
            ]
          },
          "metadata": {
            "tags": []
          },
          "execution_count": 10
        }
      ]
    },
    {
      "cell_type": "code",
      "metadata": {
        "id": "Ri9xc33hyHyw",
        "colab_type": "code",
        "colab": {
          "base_uri": "https://localhost:8080/",
          "height": 34
        },
        "outputId": "656e2cd2-ce05-4db0-a680-946091da54a2"
      },
      "source": [
        "sc = StandardScaler()\n",
        "X_train = sc.fit_transform(X_train)\n",
        "X_test = sc.transform(X_test)\n",
        "\n",
        "# X_train = preprocessing.normalize(X_train)\n",
        "# X_test = preprocessing.normalize(X_test)\n",
        "\n",
        "X_train.shape, X_test.shape"
      ],
      "execution_count": 11,
      "outputs": [
        {
          "output_type": "execute_result",
          "data": {
            "text/plain": [
              "((8000, 13), (2000, 13))"
            ]
          },
          "metadata": {
            "tags": []
          },
          "execution_count": 11
        }
      ]
    },
    {
      "cell_type": "markdown",
      "metadata": {
        "id": "I49xSRX7yUdP",
        "colab_type": "text"
      },
      "source": [
        "### Building Artifical Neural Network"
      ]
    },
    {
      "cell_type": "code",
      "metadata": {
        "id": "L1SMJ5dTyYfY",
        "colab_type": "code",
        "colab": {
          "base_uri": "https://localhost:8080/",
          "height": 255
        },
        "outputId": "b96a1d05-325b-47e0-b2eb-3940312dec75"
      },
      "source": [
        "def build_model():\n",
        "  model = Sequential()\n",
        "\n",
        "  # Create layer\n",
        "  model.add(Dense(64, input_shape=(13,), activation='relu')) #Input layer\n",
        "  model.add(Dense(32, activation='tanh')) # Hidden layer\n",
        "  model.add(Dense(1, activation='sigmoid')) # Output layer \n",
        "\n",
        "  # Learning rate\n",
        "  sgd = optimizers.RMSprop(0.01) #RMSprop\n",
        "\n",
        "  model.compile(optimizer=sgd, loss='binary_crossentropy', metrics=['accuracy']) # Loss = mean_squared_error\n",
        "  model.summary()\n",
        "  return model\n",
        "  \n",
        "model = build_model()"
      ],
      "execution_count": 120,
      "outputs": [
        {
          "output_type": "stream",
          "text": [
            "Model: \"sequential_21\"\n",
            "_________________________________________________________________\n",
            "Layer (type)                 Output Shape              Param #   \n",
            "=================================================================\n",
            "dense_67 (Dense)             (None, 64)                896       \n",
            "_________________________________________________________________\n",
            "dense_68 (Dense)             (None, 32)                2080      \n",
            "_________________________________________________________________\n",
            "dense_69 (Dense)             (None, 1)                 33        \n",
            "=================================================================\n",
            "Total params: 3,009\n",
            "Trainable params: 3,009\n",
            "Non-trainable params: 0\n",
            "_________________________________________________________________\n"
          ],
          "name": "stdout"
        }
      ]
    },
    {
      "cell_type": "code",
      "metadata": {
        "id": "s4hnCZ0d4k0V",
        "colab_type": "code",
        "colab": {
          "base_uri": "https://localhost:8080/",
          "height": 697
        },
        "outputId": "47a7fa3a-b7da-41fc-b11b-6d2c95339523"
      },
      "source": [
        "history = model.fit(X_train, y_train.values, validation_split = 0.2, batch_size=500, epochs=20, verbose=1)"
      ],
      "execution_count": 121,
      "outputs": [
        {
          "output_type": "stream",
          "text": [
            "Epoch 1/20\n",
            "13/13 [==============================] - 0s 10ms/step - loss: 0.4741 - accuracy: 0.7684 - val_loss: 0.4263 - val_accuracy: 0.8188\n",
            "Epoch 2/20\n",
            "13/13 [==============================] - 0s 5ms/step - loss: 0.3960 - accuracy: 0.8348 - val_loss: 0.4032 - val_accuracy: 0.8281\n",
            "Epoch 3/20\n",
            "13/13 [==============================] - 0s 5ms/step - loss: 0.3704 - accuracy: 0.8481 - val_loss: 0.3978 - val_accuracy: 0.8406\n",
            "Epoch 4/20\n",
            "13/13 [==============================] - 0s 5ms/step - loss: 0.3570 - accuracy: 0.8541 - val_loss: 0.3656 - val_accuracy: 0.8462\n",
            "Epoch 5/20\n",
            "13/13 [==============================] - 0s 5ms/step - loss: 0.3516 - accuracy: 0.8545 - val_loss: 0.3645 - val_accuracy: 0.8487\n",
            "Epoch 6/20\n",
            "13/13 [==============================] - 0s 6ms/step - loss: 0.3434 - accuracy: 0.8559 - val_loss: 0.3672 - val_accuracy: 0.8438\n",
            "Epoch 7/20\n",
            "13/13 [==============================] - 0s 5ms/step - loss: 0.3430 - accuracy: 0.8605 - val_loss: 0.3587 - val_accuracy: 0.8575\n",
            "Epoch 8/20\n",
            "13/13 [==============================] - 0s 5ms/step - loss: 0.3405 - accuracy: 0.8594 - val_loss: 0.3641 - val_accuracy: 0.8531\n",
            "Epoch 9/20\n",
            "13/13 [==============================] - 0s 5ms/step - loss: 0.3388 - accuracy: 0.8584 - val_loss: 0.3601 - val_accuracy: 0.8556\n",
            "Epoch 10/20\n",
            "13/13 [==============================] - 0s 5ms/step - loss: 0.3329 - accuracy: 0.8592 - val_loss: 0.3630 - val_accuracy: 0.8500\n",
            "Epoch 11/20\n",
            "13/13 [==============================] - 0s 5ms/step - loss: 0.3316 - accuracy: 0.8620 - val_loss: 0.3618 - val_accuracy: 0.8581\n",
            "Epoch 12/20\n",
            "13/13 [==============================] - 0s 5ms/step - loss: 0.3288 - accuracy: 0.8608 - val_loss: 0.3644 - val_accuracy: 0.8456\n",
            "Epoch 13/20\n",
            "13/13 [==============================] - 0s 5ms/step - loss: 0.3308 - accuracy: 0.8633 - val_loss: 0.3598 - val_accuracy: 0.8600\n",
            "Epoch 14/20\n",
            "13/13 [==============================] - 0s 5ms/step - loss: 0.3290 - accuracy: 0.8620 - val_loss: 0.3538 - val_accuracy: 0.8612\n",
            "Epoch 15/20\n",
            "13/13 [==============================] - 0s 5ms/step - loss: 0.3245 - accuracy: 0.8625 - val_loss: 0.3692 - val_accuracy: 0.8512\n",
            "Epoch 16/20\n",
            "13/13 [==============================] - 0s 5ms/step - loss: 0.3227 - accuracy: 0.8666 - val_loss: 0.3649 - val_accuracy: 0.8494\n",
            "Epoch 17/20\n",
            "13/13 [==============================] - 0s 5ms/step - loss: 0.3248 - accuracy: 0.8658 - val_loss: 0.3575 - val_accuracy: 0.8569\n",
            "Epoch 18/20\n",
            "13/13 [==============================] - 0s 5ms/step - loss: 0.3213 - accuracy: 0.8652 - val_loss: 0.3636 - val_accuracy: 0.8525\n",
            "Epoch 19/20\n",
            "13/13 [==============================] - 0s 5ms/step - loss: 0.3208 - accuracy: 0.8659 - val_loss: 0.3594 - val_accuracy: 0.8594\n",
            "Epoch 20/20\n",
            "13/13 [==============================] - 0s 6ms/step - loss: 0.3157 - accuracy: 0.8667 - val_loss: 0.3661 - val_accuracy: 0.8506\n"
          ],
          "name": "stdout"
        }
      ]
    },
    {
      "cell_type": "code",
      "metadata": {
        "id": "_4SOV0EJDiNc",
        "colab_type": "code",
        "colab": {
          "base_uri": "https://localhost:8080/",
          "height": 306
        },
        "outputId": "711408f6-9d8e-4fd1-c1c7-7ddb47f6d988"
      },
      "source": [
        "plt.plot(history.history['loss'])\n",
        "plt.plot(history.history['val_loss'])\n",
        "plt.xlabel('Epoch', fontsize=18)\n",
        "plt.ylabel(r'Loss', fontsize=18)\n",
        "plt.legend(('loss train','loss validation'), loc=0)"
      ],
      "execution_count": 122,
      "outputs": [
        {
          "output_type": "execute_result",
          "data": {
            "text/plain": [
              "<matplotlib.legend.Legend at 0x7f683aa4b630>"
            ]
          },
          "metadata": {
            "tags": []
          },
          "execution_count": 122
        },
        {
          "output_type": "display_data",
          "data": {
            "image/png": "[encoded data removed]",
            "text/plain": [
              "<Figure size 432x288 with 1 Axes>"
            ]
          },
          "metadata": {
            "tags": [],
            "needs_background": "light"
          }
        }
      ]
    },
    {
      "cell_type": "code",
      "metadata": {
        "id": "3HSs73u2MuOk",
        "colab_type": "code",
        "colab": {
          "base_uri": "https://localhost:8080/",
          "height": 304
        },
        "outputId": "db620912-8f73-44e9-808b-4cf5ad47fdcf"
      },
      "source": [
        "plt.plot(history.history['accuracy'])\n",
        "plt.plot(history.history['val_accuracy'])\n",
        "plt.xlabel('Epoch', fontsize=18)\n",
        "plt.ylabel(r'Loss', fontsize=18)\n",
        "plt.legend(('accuracy train','accuracy validation'), loc=0)"
      ],
      "execution_count": 123,
      "outputs": [
        {
          "output_type": "execute_result",
          "data": {
            "text/plain": [
              "<matplotlib.legend.Legend at 0x7f683a343b70>"
            ]
          },
          "metadata": {
            "tags": []
          },
          "execution_count": 123
        },
        {
          "output_type": "display_data",
          "data": {
            "image/png": "[encoded data removed]",
            "text/plain": [
              "<Figure size 432x288 with 1 Axes>"
            ]
          },
          "metadata": {
            "tags": [],
            "needs_background": "light"
          }
        }
      ]
    },
    {
      "cell_type": "markdown",
      "metadata": {
        "id": "UQNrYMwvigyE",
        "colab_type": "text"
      },
      "source": [
        "##### This model is giving good accuracy (80%) but validation and test accuracy is not same, so let's try to tune the model with different optimizer and validation function"
      ]
    },
    {
      "cell_type": "code",
      "metadata": {
        "id": "_ZFtgSbUif4o",
        "colab_type": "code",
        "colab": {
          "base_uri": "https://localhost:8080/",
          "height": 255
        },
        "outputId": "492715f8-879f-43db-ac93-67667fcf7956"
      },
      "source": [
        "def build_model():\n",
        "  model = Sequential()\n",
        "\n",
        "  # Create layer\n",
        "  model.add(Dense(64, input_shape=(13,), activation='relu')) #Input layer\n",
        "  model.add(Dense(32, activation='tanh')) # Hidden layer\n",
        "  model.add(Dense(1, activation='sigmoid')) # Output layer \n",
        "\n",
        "  # Learning rate\n",
        "  sgd = optimizers.Adam(0.01) #Adam(lr=0.01)\n",
        "\n",
        "  model.compile(optimizer=sgd, loss='binary_crossentropy', metrics=['accuracy']) # Loss = mean_squared_error\n",
        "  model.summary()\n",
        "  return model\n",
        "\n",
        "\n",
        "model_1 = build_model()"
      ],
      "execution_count": 146,
      "outputs": [
        {
          "output_type": "stream",
          "text": [
            "Model: \"sequential_27\"\n",
            "_________________________________________________________________\n",
            "Layer (type)                 Output Shape              Param #   \n",
            "=================================================================\n",
            "dense_82 (Dense)             (None, 64)                896       \n",
            "_________________________________________________________________\n",
            "dense_83 (Dense)             (None, 32)                2080      \n",
            "_________________________________________________________________\n",
            "dense_84 (Dense)             (None, 1)                 33        \n",
            "=================================================================\n",
            "Total params: 3,009\n",
            "Trainable params: 3,009\n",
            "Non-trainable params: 0\n",
            "_________________________________________________________________\n"
          ],
          "name": "stdout"
        }
      ]
    },
    {
      "cell_type": "code",
      "metadata": {
        "id": "x44kNfjcjmg9",
        "colab_type": "code",
        "colab": {
          "base_uri": "https://localhost:8080/",
          "height": 425
        },
        "outputId": "72a9b71f-ef4d-4f4b-bf8b-820018c03d41"
      },
      "source": [
        "model_1_history = model_1.fit(X_train, y_train.values, validation_split = 0.2, batch_size=500, epochs=12, verbose=1)"
      ],
      "execution_count": 147,
      "outputs": [
        {
          "output_type": "stream",
          "text": [
            "Epoch 1/12\n",
            "13/13 [==============================] - 0s 11ms/step - loss: 0.4721 - accuracy: 0.7850 - val_loss: 0.4280 - val_accuracy: 0.8150\n",
            "Epoch 2/12\n",
            "13/13 [==============================] - 0s 5ms/step - loss: 0.4048 - accuracy: 0.8294 - val_loss: 0.4010 - val_accuracy: 0.8250\n",
            "Epoch 3/12\n",
            "13/13 [==============================] - 0s 5ms/step - loss: 0.3744 - accuracy: 0.8434 - val_loss: 0.3792 - val_accuracy: 0.8444\n",
            "Epoch 4/12\n",
            "13/13 [==============================] - 0s 5ms/step - loss: 0.3537 - accuracy: 0.8519 - val_loss: 0.3667 - val_accuracy: 0.8500\n",
            "Epoch 5/12\n",
            "13/13 [==============================] - 0s 5ms/step - loss: 0.3427 - accuracy: 0.8564 - val_loss: 0.3630 - val_accuracy: 0.8531\n",
            "Epoch 6/12\n",
            "13/13 [==============================] - 0s 5ms/step - loss: 0.3372 - accuracy: 0.8606 - val_loss: 0.3567 - val_accuracy: 0.8531\n",
            "Epoch 7/12\n",
            "13/13 [==============================] - 0s 5ms/step - loss: 0.3336 - accuracy: 0.8603 - val_loss: 0.3539 - val_accuracy: 0.8562\n",
            "Epoch 8/12\n",
            "13/13 [==============================] - 0s 5ms/step - loss: 0.3288 - accuracy: 0.8655 - val_loss: 0.3544 - val_accuracy: 0.8544\n",
            "Epoch 9/12\n",
            "13/13 [==============================] - 0s 5ms/step - loss: 0.3298 - accuracy: 0.8639 - val_loss: 0.3598 - val_accuracy: 0.8594\n",
            "Epoch 10/12\n",
            "13/13 [==============================] - 0s 5ms/step - loss: 0.3277 - accuracy: 0.8627 - val_loss: 0.3504 - val_accuracy: 0.8600\n",
            "Epoch 11/12\n",
            "13/13 [==============================] - 0s 6ms/step - loss: 0.3235 - accuracy: 0.8653 - val_loss: 0.3492 - val_accuracy: 0.8562\n",
            "Epoch 12/12\n",
            "13/13 [==============================] - 0s 5ms/step - loss: 0.3231 - accuracy: 0.8644 - val_loss: 0.3542 - val_accuracy: 0.8612\n"
          ],
          "name": "stdout"
        }
      ]
    },
    {
      "cell_type": "code",
      "metadata": {
        "id": "vGh379xblsOZ",
        "colab_type": "code",
        "colab": {
          "base_uri": "https://localhost:8080/",
          "height": 304
        },
        "outputId": "0c28c02e-3168-4cde-f589-126e8fa2138a"
      },
      "source": [
        "plt.plot(model_1_history.history['loss'])\n",
        "plt.plot(model_1_history.history['val_loss'])\n",
        "plt.xlabel('Epoch', fontsize=18)\n",
        "plt.ylabel(r'Loss', fontsize=18)\n",
        "plt.legend(('loss train','loss validation'), loc=0)\n"
      ],
      "execution_count": 148,
      "outputs": [
        {
          "output_type": "execute_result",
          "data": {
            "text/plain": [
              "<matplotlib.legend.Legend at 0x7f683a641da0>"
            ]
          },
          "metadata": {
            "tags": []
          },
          "execution_count": 148
        },
        {
          "output_type": "display_data",
          "data": {
            "image/png": "[encoded data removed]",
            "text/plain": [
              "<Figure size 432x288 with 1 Axes>"
            ]
          },
          "metadata": {
            "tags": [],
            "needs_background": "light"
          }
        }
      ]
    },
    {
      "cell_type": "code",
      "metadata": {
        "id": "0Nbz36aDnJqo",
        "colab_type": "code",
        "colab": {
          "base_uri": "https://localhost:8080/",
          "height": 304
        },
        "outputId": "e714df7d-6b89-47c2-b372-2b25aac99839"
      },
      "source": [
        "\n",
        "# Print accuracy\n",
        "plt.plot(model_1_history.history['accuracy'])\n",
        "plt.plot(model_1_history.history['val_accuracy'])\n",
        "plt.xlabel('Epoch', fontsize=18)\n",
        "plt.ylabel(r'Loss', fontsize=18)\n",
        "plt.legend(('accuracy train','accuracy validation'), loc=0)"
      ],
      "execution_count": 149,
      "outputs": [
        {
          "output_type": "execute_result",
          "data": {
            "text/plain": [
              "<matplotlib.legend.Legend at 0x7f683a6406a0>"
            ]
          },
          "metadata": {
            "tags": []
          },
          "execution_count": 149
        },
        {
          "output_type": "display_data",
          "data": {
            "image/png": "[encoded data removed]",
            "text/plain": [
              "<Figure size 432x288 with 1 Axes>"
            ]
          },
          "metadata": {
            "tags": [],
            "needs_background": "light"
          }
        }
      ]
    },
    {
      "cell_type": "markdown",
      "metadata": {
        "id": "fnh3EjotnOGq",
        "colab_type": "text"
      },
      "source": [
        "#### The find tuned model is doing good compare with previous model, the accuracy has been improved to 86%."
      ]
    },
    {
      "cell_type": "markdown",
      "metadata": {
        "id": "43X-U-0BRdmZ",
        "colab_type": "text"
      },
      "source": [
        "#### Predict the results using 0.5 as a threshold"
      ]
    },
    {
      "cell_type": "code",
      "metadata": {
        "id": "e9XCZT_5-NOp",
        "colab_type": "code",
        "colab": {
          "base_uri": "https://localhost:8080/",
          "height": 136
        },
        "outputId": "036fc883-df58-43a4-89b7-14f2d4b611aa"
      },
      "source": [
        "y_pred = model.predict(X_test)\n",
        "y_pred = (y_pred > 0.5)\n",
        "print('Prediction:', y_pred)"
      ],
      "execution_count": 137,
      "outputs": [
        {
          "output_type": "stream",
          "text": [
            "Prediction: [[False]\n",
            " [False]\n",
            " [False]\n",
            " ...\n",
            " [False]\n",
            " [False]\n",
            " [False]]\n"
          ],
          "name": "stdout"
        }
      ]
    },
    {
      "cell_type": "code",
      "metadata": {
        "id": "d9A1mLXUlaLN",
        "colab_type": "code",
        "colab": {
          "base_uri": "https://localhost:8080/",
          "height": 153
        },
        "outputId": "b3521985-7a0d-4ed8-d45d-3acf4e827cfe"
      },
      "source": [
        "print('Prediction value counts:\\n', pd.DataFrame(y_pred)[0].value_counts())\n",
        "print('Target values count:\\n', y_test['Exited'].value_counts())"
      ],
      "execution_count": 138,
      "outputs": [
        {
          "output_type": "stream",
          "text": [
            "Prediction value counts:\n",
            " False    1786\n",
            "True      214\n",
            "Name: 0, dtype: int64\n",
            "Target values count:\n",
            " 0    1595\n",
            "1     405\n",
            "Name: Exited, dtype: int64\n"
          ],
          "name": "stdout"
        }
      ]
    },
    {
      "cell_type": "code",
      "metadata": {
        "id": "_Q-NX7WItmx1",
        "colab_type": "code",
        "colab": {
          "base_uri": "https://localhost:8080/",
          "height": 51
        },
        "outputId": "3b1bf6cb-86d7-4e73-d6b3-cc9771cb476e"
      },
      "source": [
        "# Let's check the prediction in confusion matrix\n",
        "cmatrix = confusion_matrix(y_test.values, y_pred)\n",
        "print(cmatrix)"
      ],
      "execution_count": 139,
      "outputs": [
        {
          "output_type": "stream",
          "text": [
            "[[1552   43]\n",
            " [ 234  171]]\n"
          ],
          "name": "stdout"
        }
      ]
    },
    {
      "cell_type": "markdown",
      "metadata": {
        "id": "RDTvc80SHY8n",
        "colab_type": "text"
      },
      "source": [
        "The accuracy from confusion matrix, \n",
        "accuracy = (TP+TN)/(TP+TN+FP+FN)\n",
        "accuracy = (1552+171)/(1552+43+234+171) => 0.86\n"
      ]
    },
    {
      "cell_type": "code",
      "metadata": {
        "id": "638O0JDpw3l5",
        "colab_type": "code",
        "colab": {
          "base_uri": "https://localhost:8080/",
          "height": 51
        },
        "outputId": "8bf7de7c-e74a-4292-dfff-8875f80052f6"
      },
      "source": [
        "loss, accuracy = model_1.evaluate(X_test, y_test.values)\n",
        "print('Test accuracy: {:.2f}'.format(accuracy))"
      ],
      "execution_count": 140,
      "outputs": [
        {
          "output_type": "stream",
          "text": [
            "63/63 [==============================] - 0s 2ms/step - loss: 0.3366 - accuracy: 0.8615\n",
            "Test accuracy: 0.86\n"
          ],
          "name": "stdout"
        }
      ]
    },
    {
      "cell_type": "markdown",
      "metadata": {
        "id": "hGI80pqd8orv",
        "colab_type": "text"
      },
      "source": [
        "#### The testing accuracy is: 86%, and loss is: 0.33 which is good. But still the model accuracy can be improvde by fine tunning with various parameters like activation function, optimizer, hidden layers etc., "
      ]
    },
    {
      "cell_type": "code",
      "metadata": {
        "id": "QR58T-Igzo1t",
        "colab_type": "code",
        "colab": {}
      },
      "source": [
        ""
      ],
      "execution_count": 0,
      "outputs": []
    }
  ]
}