{
 "cells": [
  {
   "cell_type": "markdown",
   "metadata": {
    "colab_type": "text",
    "id": "SrMTipcaNDnk"
   },
   "source": [
    "## Dataset information:\n",
    "<blockquote>\n",
    "                This dataset comprises information of 25000 mutual funds in the United states.\n",
    "            Various attributes related to the mutual fund have been described and these\n",
    "            attributes will be used for making decisions on the rating of the mutual fund by\n",
    "            GreatStone which is a top mutual fund rating agency.\n",
    "            The following files are provided in the form of CSVs. These files contain various\n",
    "            attributes related to the mutual fund. Please find the following files for the\n",
    "            same:\n",
    "            bond_ratings, fund_allocations, fund_config, fund_ratios, fund_specs, other_specs, return_3year, return_5year, return_10year. \n",
    "</blockquote>\n",
    "    \n",
    "## Files Description:\n",
    "\n",
    "<blockquote>\n",
    "    <ul>\n",
    "        <li>bond_ratings consists of 12 columns which provide information on the\n",
    "bond rating percentage allocation of the mutual funds</li>\n",
    "        <li>fund_allocations consists of 12 columns which provide information on the\n",
    "sector wise percentage allocation of the mutual funds</li>\n",
    "        <li>fund_config comprises of 4 columns which comprise the metadata of the\n",
    "mutual funds</li>\n",
    "        <li>fund_ratios consists of 8 columns which provides information on various\n",
    "fundamental ratios that describe the mutual funds</li>\n",
    "        <li>fund_specs contains 9 columns which give information about the specifications of the mutual funds</li>\n",
    "        <li>other_specs contains 43 columns which give information of the other\n",
    "aspects of the mutual funds</li>\n",
    "        <li>return_3years contains 17 columns which give information about 3 year\n",
    "return and ratios</li>\n",
    "        <li>return_5years contains 17 columns which give information about 3 year\n",
    "return and ratios</li>\n",
    "        <li>return_10years contains 17 columns which give information about 3 year\n",
    "return and ratios</li>\n",
    "        <li>sample_submission contains the fund ids for which you need to provide\n",
    "the ratings for the submission file. Please maintain the order of the fund\n",
    "ids as shown in this file.</li>\n",
    "        <li>The tag column is a unique identifier and is also the same as the id.(i.e tag\n",
    "= id)</li>\n",
    "    </ul>\n",
    "</blockquote>\n",
    "\n",
    "## Goal: \n",
    "<blockquote>\n",
    "The goal of this hackathon is to predict GreatStone’s\n",
    "rating of a mutual fund. In order to help investors decide\n",
    "on which mutual fund to pick for an investment, the task is\n",
    "to build a model that can predict the rating of a mutual\n",
    "fund. The various attributes that define a mutual fund can\n",
    "be used for building the model.\n",
    "</blockquote>\n",
    "\n",
    "## Great Stone Rating \n",
    "<blockquote>Great Stone Rating is a star based ranking system.\n",
    "These ratings are based on the performance of a mutual\n",
    "fund with adjustments for risks and costs as compared to\n",
    "other funds in the same category. The rating ranges from\n",
    "0 to 5.</blockquote>"
   ]
  },
  {
   "cell_type": "markdown",
   "metadata": {
    "colab_type": "text",
    "id": "Cj0AD8IU4T0p"
   },
   "source": [
    "## Library Import "
   ]
  },
  {
   "cell_type": "code",
   "execution_count": 1,
   "metadata": {
    "colab": {
     "base_uri": "https://localhost:8080/",
     "height": 323
    },
    "colab_type": "code",
    "collapsed": false,
    "id": "BZbaAbETNDnl",
    "jupyter": {
     "outputs_hidden": false
    },
    "outputId": "de4ac529-caa4-4be1-c8fe-62a5428892dd"
   },
   "outputs": [],
   "source": [
    "# import required libraries\n",
    "import pandas as pd\n",
    "import numpy as np\n",
    "import seaborn as sns\n",
    "import matplotlib.pyplot as plt\n",
    "import numpy as np\n",
    "from glob import glob\n",
    "import math\n",
    "\n",
    "# Model metrics\n",
    "from sklearn.model_selection import cross_val_score\n",
    "from sklearn.metrics import accuracy_score, f1_score, recall_score, precision_score, confusion_matrix, mean_squared_error, r2_score\n",
    "from sklearn.model_selection import train_test_split\n",
    "\n",
    "#Preprocessor\n",
    "from sklearn.preprocessing import StandardScaler\n",
    "\n",
    "from sklearn.impute import SimpleImputer\n",
    "\n",
    "# Import logistic, tree models\n",
    "from sklearn.tree import DecisionTreeClassifier\n",
    "#!pip install catboost\n",
    "from catboost import CatBoostClassifier\n",
    "\n",
    "# import model metrics\n",
    "from sklearn.metrics import accuracy_score, f1_score, recall_score, precision_score, confusion_matrix\n",
    "\n",
    "# Import model tuning \n",
    "from sklearn.model_selection import GridSearchCV\n",
    "from sklearn.model_selection import RandomizedSearchCV\n",
    "\n",
    "#Other imports\n",
    "from scipy.stats import randint as sp_randint\n",
    "from sklearn.preprocessing import LabelEncoder, OneHotEncoder \n",
    "\n",
    "\n",
    "# To display matplot diagram in inline\n",
    "%matplotlib inline"
   ]
  },
  {
   "cell_type": "code",
   "execution_count": 2,
   "metadata": {
    "colab": {},
    "colab_type": "code",
    "id": "DvTLVchCNDno"
   },
   "outputs": [],
   "source": [
    "# To display all the variable values / full output\n",
    "from IPython.core.interactiveshell import InteractiveShell\n",
    "InteractiveShell.ast_node_interactivity = \"all\"\n",
    "\n",
    "# Ignore ipython warnings\n",
    "import warnings\n",
    "warnings.filterwarnings('ignore')"
   ]
  },
  {
   "cell_type": "code",
   "execution_count": 3,
   "metadata": {
    "colab": {},
    "colab_type": "code",
    "id": "xwMzbObNNDnr"
   },
   "outputs": [],
   "source": [
    "def get_common_columns(df1, df2):\n",
    "    \"\"\"Get common columns between dataframes\"\"\"\n",
    "    \n",
    "    common_columns = set(df1.columns)\n",
    "    common_columns &= set(df2.columns)\n",
    "    \n",
    "    return list(common_columns)"
   ]
  },
  {
   "cell_type": "code",
   "execution_count": 58,
   "metadata": {
    "colab": {},
    "colab_type": "code",
    "collapsed": false,
    "id": "GjumLJa9NDnt",
    "jupyter": {
     "outputs_hidden": false
    },
    "outputId": "7cd8414b-7878-4f44-8f5d-6cae59bfd880"
   },
   "outputs": [
    {
     "name": "stdout",
     "output_type": "stream",
     "text": [
      "1\n",
      "data/fund_specs.csv\n",
      "data/fund_allocations.csv\n",
      "data/fund_ratios.csv\n",
      "data/return_3year.csv\n",
      "data/return_5year.csv\n",
      "data/fund_config.csv\n",
      "data/return_10year.csv\n",
      "data/other_specs.csv\n",
      "Reprocess count: 0\n"
     ]
    },
    {
     "data": {
      "text/plain": [
       "(25000, 125)"
      ]
     },
     "execution_count": 58,
     "metadata": {},
     "output_type": "execute_result"
    }
   ],
   "source": [
    "def _get_dataframe(filenames, df_master, start_index=1):\n",
    "    ''' get data frame from files'''\n",
    "    \n",
    "    reprocess_list = []\n",
    "    \n",
    "    print(start_index)\n",
    "    \n",
    "    # Iterate the filenames and append the data\n",
    "    for f in filenames[start_index:]:\n",
    "        print(f)\n",
    "        df_tmp = pd.read_csv(f)\n",
    "        \n",
    "        # Get common column names\n",
    "        common_columns = get_common_columns(df_master, df_tmp)\n",
    "            \n",
    "        if(len(common_columns)>0): # Atleast one common column between the dataframes\n",
    "            df_master = pd.merge(left=df_master, right=df_tmp, left_on=common_columns, right_on=common_columns, how='inner')\n",
    "        \n",
    "        elif(f.find('fund_allocation')!=-1): # Special case #1: fund_allocation file doens't have common column but 'id' represents the 'tag'\n",
    "            df_master = pd.merge(left=df_master, right=df_tmp, left_on=['tag'], right_on=['id'], how='inner')\n",
    "        \n",
    "        else: # There is no common columns, store it in array for later reprocessing\n",
    "            print('reprocess:', f)\n",
    "            reprocess_list.append(f)\n",
    "            \n",
    "    print('Reprocess count:', len(reprocess_list))\n",
    "    if(len(reprocess_list)>0): # Reprocess the files which is not merged\n",
    "        print('Reprocessing....')\n",
    "        df_master, reprocess_list = _get_dataframe(reprocess_list, df_master, 0)\n",
    "        \n",
    "    return [df_master, reprocess_list]\n",
    "\n",
    "def get_master_dataframe(base_dir, file_type):\n",
    "    ''' This method returns the dataframe of all the file content'''\n",
    "    \n",
    "    # Read all the filenames\n",
    "    filenames = glob(base_dir+\"/*.\"+file_type) # Total - 9 files, number of rows in each file - 25000, total columns from all the files - 139 (including duplicates)\n",
    "    # Read first file\n",
    "    df_master = pd.read_csv(filenames[0])\n",
    "    \n",
    "    # Get Master dataframe\n",
    "    df_master, reprocess_list = _get_dataframe(filenames, df_master)\n",
    "    \n",
    "    return df_master\n",
    "\n",
    "master_df = get_master_dataframe(base_dir='data', file_type='csv')\n",
    "master_df.shape\n",
    "master_df.to_csv('master_data.csv', index=False)"
   ]
  },
  {
   "cell_type": "code",
   "execution_count": 59,
   "metadata": {
    "colab": {},
    "colab_type": "code",
    "collapsed": false,
    "id": "s7zIgTMeNDn1",
    "jupyter": {
     "outputs_hidden": false
    },
    "outputId": "6db64b25-8569-463f-e9e2-92ebc985363b"
   },
   "outputs": [
    {
     "data": {
      "text/plain": [
       "(5000, 125)"
      ]
     },
     "execution_count": 59,
     "metadata": {},
     "output_type": "execute_result"
    },
    {
     "data": {
      "text/plain": [
       "(20000, 125)"
      ]
     },
     "execution_count": 59,
     "metadata": {},
     "output_type": "execute_result"
    },
    {
     "data": {
      "text/plain": [
       "(5000, 125)"
      ]
     },
     "execution_count": 59,
     "metadata": {},
     "output_type": "execute_result"
    }
   ],
   "source": [
    "# Take out the result/prediction rows\n",
    "prediction_df = master_df[master_df['greatstone_rating'].isnull()] # This dataframe will be used for prediction\n",
    "prediction_df.shape\n",
    "df = master_df[~master_df['greatstone_rating'].isnull()] # This dataframe will be used for training, validation and testing\n",
    "df.shape\n",
    "df.to_csv('data.csv', index=False)\n",
    "prediction_df.to_csv('predict_result.csv', index=False)\n",
    "prediction_df.shape"
   ]
  },
  {
   "cell_type": "markdown",
   "metadata": {
    "colab_type": "text",
    "id": "xp3tz-ns4ilS"
   },
   "source": [
    "## EDA"
   ]
  },
  {
   "cell_type": "code",
   "execution_count": 60,
   "metadata": {
    "colab": {
     "base_uri": "https://localhost:8080/",
     "height": 0
    },
    "colab_type": "code",
    "collapsed": false,
    "id": "lTm_NL0-NDn_",
    "jupyter": {
     "outputs_hidden": false
    },
    "outputId": "e2edb50c-6cd0-4be6-f58a-7a9188119f98"
   },
   "outputs": [
    {
     "data": {
      "text/plain": [
       "(20000, 125)"
      ]
     },
     "execution_count": 60,
     "metadata": {},
     "output_type": "execute_result"
    },
    {
     "data": {
      "text/plain": [
       "(19912, 123)"
      ]
     },
     "execution_count": 60,
     "metadata": {},
     "output_type": "execute_result"
    }
   ],
   "source": [
    "### DROPPIGN COLUMN which has more null value\n",
    "threshold = 0.5\n",
    "df_backup=df.copy()\n",
    "df_backup.shape\n",
    "#Dropping columns with missing value rate higher than threshold\n",
    "df = df[df.columns[df.isnull().mean() < threshold]]\n",
    "\n",
    "#Dropping rows with missing value rate higher than threshold\n",
    "df = df.loc[df.isnull().mean(axis=1) < threshold]\n",
    "df.shape"
   ]
  },
  {
   "cell_type": "code",
   "execution_count": 61,
   "metadata": {
    "collapsed": false,
    "jupyter": {
     "outputs_hidden": false
    }
   },
   "outputs": [],
   "source": [
    "## Remove unique ID column and unwanted date column\n",
    "df.drop(['fund_id','currency','inception_date'], axis=1, inplace=True, errors='ignore')\n",
    "# df.mean()"
   ]
  },
  {
   "cell_type": "code",
   "execution_count": null,
   "metadata": {
    "collapsed": false,
    "jupyter": {
     "outputs_hidden": false
    }
   },
   "outputs": [],
   "source": [
    "#Convert the Categorical variable type to category from int data type\n",
    "df['inception_date'] = pd.to_datetime(df['inception_date'], format='%Y-%m-%d')\n",
    "# df['Year'] = df['inception_date'].dt.year.astype('category')\n",
    "# df['Month'] = df['inception_date'].dt.month.astype('category')\n",
    "# df['DayOfMonth'] = df['inception_date'].dt.day.astype('category')\n",
    "# df['Weekday'] = df['inception_date'].dt.dayofweek.astype('category')\n",
    "# df['DayOfYear'] = df['inception_date'].dt.dayofyear.astype('category')\n",
    "\n",
    "df['Year'] = df['inception_date'].dt.year\n",
    "df['Month'] = df['inception_date'].dt.month\n",
    "df['DayOfMonth'] = df['inception_date'].dt.day\n",
    "df['Weekday'] = df['inception_date'].dt.dayofweek\n",
    "df['DayOfYear'] = df['inception_date'].dt.dayofyear\n",
    "df['inception_date'] = df['inception_date'].astype(int)/1e12\n",
    "df = df.sort_values('inception_date').reset_index(drop=True)\n",
    "df.shape"
   ]
  },
  {
   "cell_type": "markdown",
   "metadata": {},
   "source": [
    "#### OneHot label encorder and Impute the mean"
   ]
  },
  {
   "cell_type": "code",
   "execution_count": 62,
   "metadata": {
    "collapsed": false,
    "jupyter": {
     "outputs_hidden": false
    }
   },
   "outputs": [],
   "source": [
    "# From above result, the following columns are not a categorical\n",
    "# 3yrs_treynor_ratio_fund, 5yrs_treynor_ratio_fund, ps_ratio, mmc, pc_ratio, pe_ratio, 10yrs_treynor_ratio_fund\n",
    "# And categorical columns are\n",
    "# investment_class, inception_date, fund_size\n",
    "\n",
    "\n",
    "## Convert all the non categorical columns to numeric\n",
    "categorical_columns = ['3yrs_treynor_ratio_fund', 'ps_ratio', 'mmc', 'pc_ratio', 'pe_ratio','5yrs_treynor_ratio_fund', '10yrs_treynor_ratio_fund']\n",
    "for col in categorical_columns:\n",
    "    df[col] = df[col].replace(',','', regex=True).astype('float')\n"
   ]
  },
  {
   "cell_type": "code",
   "execution_count": 63,
   "metadata": {
    "collapsed": true,
    "jupyter": {
     "outputs_hidden": true
    }
   },
   "outputs": [],
   "source": [
    "    \n",
    "## Converting all the categorical column values to numeric\n",
    "replaceStruct = {\n",
    "    \"investment_class\": {'Blend': 1, 'Growth': 2, 'Value': 3, np.NaN: 0},\n",
    "    \"fund_size\": {'Large': 1, 'Medium': 2, 'Small': 3, np.NaN: 0}\n",
    "}\n",
    "\n",
    "df.replace(replaceStruct, inplace=True, )\n",
    "\n",
    "df['investment_class'] = df['investment_class'].astype('float')\n",
    "df['fund_size'] = df['fund_size'].astype('float')"
   ]
  },
  {
   "cell_type": "code",
   "execution_count": 64,
   "metadata": {
    "collapsed": false,
    "jupyter": {
     "outputs_hidden": false
    }
   },
   "outputs": [
    {
     "data": {
      "text/plain": [
       "['category', 'parent_company', 'fund_name']"
      ]
     },
     "execution_count": 64,
     "metadata": {},
     "output_type": "execute_result"
    },
    {
     "name": "stdout",
     "output_type": "stream",
     "text": [
      "<class 'pandas.core.frame.DataFrame'>\n",
      "Int64Index: 19912 entries, 1 to 24997\n",
      "Data columns (total 3 columns):\n",
      " #   Column          Non-Null Count  Dtype\n",
      "---  ------          --------------  -----\n",
      " 0   category        19912 non-null  int64\n",
      " 1   parent_company  19912 non-null  int64\n",
      " 2   fund_name       19912 non-null  int64\n",
      "dtypes: int64(3)\n",
      "memory usage: 622.2 KB\n"
     ]
    }
   ],
   "source": [
    "le = LabelEncoder() \n",
    "\n",
    "obj_col_list = df.select_dtypes('object').columns.tolist()\n",
    "obj_col_list\n",
    "for col in obj_col_list:\n",
    "    df[col] = df[~df[col].isnull()]\n",
    "    df[col] = le.fit_transform(df[col])\n",
    "\n",
    "\n",
    "df[obj_col_list].info()"
   ]
  },
  {
   "cell_type": "code",
   "execution_count": 12,
   "metadata": {
    "colab": {},
    "colab_type": "code",
    "collapsed": true,
    "id": "1Db-5xjQNDoC",
    "jupyter": {
     "outputs_hidden": true
    }
   },
   "outputs": [],
   "source": [
    "def getUnique_Highly_Correlated_Columns(df):\n",
    "    '''\n",
    "    Get a list of duplicate columns. and column which has unique data and highly correlated in positively and negatively.\n",
    "    :param df: Dataframe object\n",
    "    :return: List of columns which is unwanted (contains unique data or highly correlated).\n",
    "    '''\n",
    "    target_col = 'greatstone_rating'\n",
    "    unwantedColumnNames = set()\n",
    "    # Iterate over all the columns in dataframe\n",
    "    for x in range(df.shape[1]):\n",
    "        col = df.iloc[:, x]\n",
    "        x_col_name = df.columns[x]\n",
    "        if(df[x_col_name].nunique() == 1 or df[x_col_name].nunique() == df.shape[0]): # Remove if All the values in columns are unique\n",
    "            unwantedColumnNames.add(x_col_name)\n",
    "        else:\n",
    "            # Iterate over all the columns in DataFrame from (x+1)th index till end\n",
    "            for y in range(x + 1, df.shape[1]):\n",
    "                \n",
    "                y_col_name = df.columns[y]\n",
    "                if( (target_col!=x_col_name and target_col!= y_col_name) and (df.dtypes[x_col_name] != np.object) and (df.dtypes[y_col_name] != np.object)):\n",
    "                    corr = df[x_col_name].corr(df[y_col_name])\n",
    "                    if math.isnan(corr) == False and ~(-0.75 < corr < 0.75): # Find the correlation between the columns and remove postive and negatively correlated\n",
    "                        #print(x_col_name,'--',y_col_name,' corr:', corr)\n",
    "                        unwantedColumnNames.add(x_col_name)\n",
    "                        break\n",
    "    \n",
    "    # Add ignore columns\n",
    "    if target_col in unwantedColumnNames: unwantedColumnNames.remove(target_col)\n",
    "    if 'parent_company' in unwantedColumnNames: unwantedColumnNames.remove('parent_company')\n",
    "\n",
    "    print('Unwanted columns:', list(unwantedColumnNames),\"\\ncount:\",len(list(unwantedColumnNames)))\n",
    "    return list(unwantedColumnNames)"
   ]
  },
  {
   "cell_type": "code",
   "execution_count": 29,
   "metadata": {
    "colab": {
     "base_uri": "https://localhost:8080/",
     "height": 0
    },
    "colab_type": "code",
    "collapsed": false,
    "id": "QT9QdKfINDoE",
    "jupyter": {
     "outputs_hidden": false
    },
    "outputId": "666a7176-413a-45c1-d736-141d4cae14ea"
   },
   "outputs": [
    {
     "name": "stdout",
     "output_type": "stream",
     "text": [
      "Unwanted columns: ['fund_return_3years', '5_years_alpha_category', '2018_return_category', 'tag', '3_years_alpha_category', '2013_return_fund', '3_years_return_mean_annual_fund', '10_years_return_mean_annual_fund', 'return_ytd', 'fund_beta_3years', 'fund_return_3months', '5_years_return_fund', 'ytd_return_category', '2016_return_fund', '5_years_return_mean_annual_category', 'ytd_return_fund', '5_years_alpha_fund', '10_years_alpha_fund', '2010_return_fund', 'category_beta_3years', 'us_govt_bond_rating', '3_years_return_category', '5years_category_std', '10_years_return_mean_annual_category', 'years_up', 'category_r_squared_5years', '2014_category_return', '5yrs_sharpe_ratio_fund', '5_years_return_mean_annual_fund', '2012_return_category', 'id', '10_years_return_category', '3years_fund_std', '5years_fund_std', '3_months_return_category', 'inception_date', 'Month', '2017_category_return', '2011_return_category', '2015_return_fund', '3years_fund_r_squared', 'bb_rating', '3_years_alpha_fund', '3years_category_r_squared', '3years_category_std', '5_years_return_category', '5years_fund_r_squared', '10years_category_r_squared', '10years_fund_std', '3_years_return_mean_annual_category', '10years_category_std', 'years_down', 'stock_percent_of_portfolio', '10_years_return_fund', 'category'] \n",
      "count: 55\n"
     ]
    },
    {
     "data": {
      "text/plain": [
       "(19912, 126)"
      ]
     },
     "execution_count": 29,
     "metadata": {},
     "output_type": "execute_result"
    }
   ],
   "source": [
    "df.to_csv('data_with_unwanted_col.csv', index=False)\n",
    "unwantedCol = getUnique_Highly_Correlated_Columns(df)\n",
    "\n",
    "\n",
    "# df.drop(columns = unwantedCol, inplace=True, errors='ignore')\n",
    "df.shape"
   ]
  },
  {
   "cell_type": "code",
   "execution_count": 30,
   "metadata": {
    "colab": {
     "base_uri": "https://localhost:8080/",
     "height": 286
    },
    "colab_type": "code",
    "collapsed": false,
    "id": "wUpP49SNNDoW",
    "jupyter": {
     "outputs_hidden": false
    },
    "outputId": "11d4f6a2-46f3-401b-b6b2-6bd876684461"
   },
   "outputs": [
    {
     "data": {
      "text/html": [
       "<div>\n",
       "<style scoped>\n",
       "    .dataframe tbody tr th:only-of-type {\n",
       "        vertical-align: middle;\n",
       "    }\n",
       "\n",
       "    .dataframe tbody tr th {\n",
       "        vertical-align: top;\n",
       "    }\n",
       "\n",
       "    .dataframe thead th {\n",
       "        text-align: right;\n",
       "    }\n",
       "</style>\n",
       "<table border=\"1\" class=\"dataframe\">\n",
       "  <thead>\n",
       "    <tr style=\"text-align: right;\">\n",
       "      <th></th>\n",
       "      <th>bb_rating</th>\n",
       "      <th>us_govt_bond_rating</th>\n",
       "      <th>below_b_rating</th>\n",
       "      <th>others_rating</th>\n",
       "      <th>b_rating</th>\n",
       "      <th>tag</th>\n",
       "      <th>a_rating</th>\n",
       "      <th>aaa_rating</th>\n",
       "      <th>aa_rating</th>\n",
       "      <th>bbb_rating</th>\n",
       "      <th>...</th>\n",
       "      <th>1_month_fund_return</th>\n",
       "      <th>bond_percentage_of_porfolio</th>\n",
       "      <th>portfolio_preferred</th>\n",
       "      <th>2010_return_category</th>\n",
       "      <th>2013_category_return</th>\n",
       "      <th>Year</th>\n",
       "      <th>Month</th>\n",
       "      <th>DayOfMonth</th>\n",
       "      <th>Weekday</th>\n",
       "      <th>DayOfYear</th>\n",
       "    </tr>\n",
       "    <tr>\n",
       "      <th>greatstone_rating</th>\n",
       "      <th></th>\n",
       "      <th></th>\n",
       "      <th></th>\n",
       "      <th></th>\n",
       "      <th></th>\n",
       "      <th></th>\n",
       "      <th></th>\n",
       "      <th></th>\n",
       "      <th></th>\n",
       "      <th></th>\n",
       "      <th></th>\n",
       "      <th></th>\n",
       "      <th></th>\n",
       "      <th></th>\n",
       "      <th></th>\n",
       "      <th></th>\n",
       "      <th></th>\n",
       "      <th></th>\n",
       "      <th></th>\n",
       "      <th></th>\n",
       "      <th></th>\n",
       "    </tr>\n",
       "  </thead>\n",
       "  <tbody>\n",
       "    <tr>\n",
       "      <th>0.0</th>\n",
       "      <td>3.014418</td>\n",
       "      <td>0.0</td>\n",
       "      <td>0.605448</td>\n",
       "      <td>0.925100</td>\n",
       "      <td>2.299540</td>\n",
       "      <td>143994.950334</td>\n",
       "      <td>3.854833</td>\n",
       "      <td>12.757650</td>\n",
       "      <td>2.249978</td>\n",
       "      <td>5.945975</td>\n",
       "      <td>...</td>\n",
       "      <td>0.797816</td>\n",
       "      <td>26.521223</td>\n",
       "      <td>0.334418</td>\n",
       "      <td>-18.952857</td>\n",
       "      <td>-9.358611</td>\n",
       "      <td>2015.672350</td>\n",
       "      <td>7.332098</td>\n",
       "      <td>18.655300</td>\n",
       "      <td>2.425500</td>\n",
       "      <td>210.868050</td>\n",
       "    </tr>\n",
       "    <tr>\n",
       "      <th>1.0</th>\n",
       "      <td>2.849764</td>\n",
       "      <td>0.0</td>\n",
       "      <td>0.537982</td>\n",
       "      <td>1.789853</td>\n",
       "      <td>2.513601</td>\n",
       "      <td>139705.715859</td>\n",
       "      <td>4.781672</td>\n",
       "      <td>15.001723</td>\n",
       "      <td>4.549315</td>\n",
       "      <td>5.015884</td>\n",
       "      <td>...</td>\n",
       "      <td>0.630169</td>\n",
       "      <td>33.428726</td>\n",
       "      <td>0.287857</td>\n",
       "      <td>11.909681</td>\n",
       "      <td>16.518415</td>\n",
       "      <td>2006.998532</td>\n",
       "      <td>6.659325</td>\n",
       "      <td>20.187225</td>\n",
       "      <td>2.925844</td>\n",
       "      <td>191.762849</td>\n",
       "    </tr>\n",
       "    <tr>\n",
       "      <th>2.0</th>\n",
       "      <td>3.194797</td>\n",
       "      <td>0.0</td>\n",
       "      <td>0.657688</td>\n",
       "      <td>1.724252</td>\n",
       "      <td>2.920341</td>\n",
       "      <td>140175.157632</td>\n",
       "      <td>4.612419</td>\n",
       "      <td>13.998465</td>\n",
       "      <td>4.123878</td>\n",
       "      <td>5.279185</td>\n",
       "      <td>...</td>\n",
       "      <td>0.721627</td>\n",
       "      <td>29.066599</td>\n",
       "      <td>0.208675</td>\n",
       "      <td>13.362833</td>\n",
       "      <td>17.180126</td>\n",
       "      <td>2006.082739</td>\n",
       "      <td>6.678554</td>\n",
       "      <td>19.806705</td>\n",
       "      <td>2.857109</td>\n",
       "      <td>191.950071</td>\n",
       "    </tr>\n",
       "    <tr>\n",
       "      <th>3.0</th>\n",
       "      <td>3.308785</td>\n",
       "      <td>0.0</td>\n",
       "      <td>0.795700</td>\n",
       "      <td>1.465522</td>\n",
       "      <td>3.145219</td>\n",
       "      <td>139118.439781</td>\n",
       "      <td>5.008639</td>\n",
       "      <td>14.355928</td>\n",
       "      <td>4.151307</td>\n",
       "      <td>5.990395</td>\n",
       "      <td>...</td>\n",
       "      <td>0.930636</td>\n",
       "      <td>29.591083</td>\n",
       "      <td>0.282588</td>\n",
       "      <td>13.636393</td>\n",
       "      <td>17.072329</td>\n",
       "      <td>2006.195655</td>\n",
       "      <td>6.857396</td>\n",
       "      <td>19.994089</td>\n",
       "      <td>2.757352</td>\n",
       "      <td>197.595537</td>\n",
       "    </tr>\n",
       "    <tr>\n",
       "      <th>4.0</th>\n",
       "      <td>3.966094</td>\n",
       "      <td>0.0</td>\n",
       "      <td>1.091767</td>\n",
       "      <td>1.943949</td>\n",
       "      <td>3.815313</td>\n",
       "      <td>139045.654348</td>\n",
       "      <td>5.793114</td>\n",
       "      <td>14.625024</td>\n",
       "      <td>4.623240</td>\n",
       "      <td>6.961419</td>\n",
       "      <td>...</td>\n",
       "      <td>1.192486</td>\n",
       "      <td>32.989591</td>\n",
       "      <td>0.351867</td>\n",
       "      <td>13.561193</td>\n",
       "      <td>16.016686</td>\n",
       "      <td>2006.230870</td>\n",
       "      <td>6.935000</td>\n",
       "      <td>19.947609</td>\n",
       "      <td>2.725000</td>\n",
       "      <td>199.912609</td>\n",
       "    </tr>\n",
       "    <tr>\n",
       "      <th>5.0</th>\n",
       "      <td>3.992856</td>\n",
       "      <td>0.0</td>\n",
       "      <td>1.013575</td>\n",
       "      <td>2.404656</td>\n",
       "      <td>3.712887</td>\n",
       "      <td>146300.998771</td>\n",
       "      <td>5.926536</td>\n",
       "      <td>17.069435</td>\n",
       "      <td>5.155891</td>\n",
       "      <td>7.591468</td>\n",
       "      <td>...</td>\n",
       "      <td>1.467273</td>\n",
       "      <td>35.862721</td>\n",
       "      <td>0.441923</td>\n",
       "      <td>12.293819</td>\n",
       "      <td>13.995196</td>\n",
       "      <td>2007.693489</td>\n",
       "      <td>6.973587</td>\n",
       "      <td>20.363636</td>\n",
       "      <td>2.783170</td>\n",
       "      <td>201.489558</td>\n",
       "    </tr>\n",
       "  </tbody>\n",
       "</table>\n",
       "<p>6 rows × 125 columns</p>\n",
       "</div>"
      ],
      "text/plain": [
       "                   bb_rating  us_govt_bond_rating  below_b_rating  \\\n",
       "greatstone_rating                                                   \n",
       "0.0                 3.014418                  0.0        0.605448   \n",
       "1.0                 2.849764                  0.0        0.537982   \n",
       "2.0                 3.194797                  0.0        0.657688   \n",
       "3.0                 3.308785                  0.0        0.795700   \n",
       "4.0                 3.966094                  0.0        1.091767   \n",
       "5.0                 3.992856                  0.0        1.013575   \n",
       "\n",
       "                   others_rating  b_rating            tag  a_rating  \\\n",
       "greatstone_rating                                                     \n",
       "0.0                     0.925100  2.299540  143994.950334  3.854833   \n",
       "1.0                     1.789853  2.513601  139705.715859  4.781672   \n",
       "2.0                     1.724252  2.920341  140175.157632  4.612419   \n",
       "3.0                     1.465522  3.145219  139118.439781  5.008639   \n",
       "4.0                     1.943949  3.815313  139045.654348  5.793114   \n",
       "5.0                     2.404656  3.712887  146300.998771  5.926536   \n",
       "\n",
       "                   aaa_rating  aa_rating  bbb_rating  ...  \\\n",
       "greatstone_rating                                     ...   \n",
       "0.0                 12.757650   2.249978    5.945975  ...   \n",
       "1.0                 15.001723   4.549315    5.015884  ...   \n",
       "2.0                 13.998465   4.123878    5.279185  ...   \n",
       "3.0                 14.355928   4.151307    5.990395  ...   \n",
       "4.0                 14.625024   4.623240    6.961419  ...   \n",
       "5.0                 17.069435   5.155891    7.591468  ...   \n",
       "\n",
       "                   1_month_fund_return  bond_percentage_of_porfolio  \\\n",
       "greatstone_rating                                                     \n",
       "0.0                           0.797816                    26.521223   \n",
       "1.0                           0.630169                    33.428726   \n",
       "2.0                           0.721627                    29.066599   \n",
       "3.0                           0.930636                    29.591083   \n",
       "4.0                           1.192486                    32.989591   \n",
       "5.0                           1.467273                    35.862721   \n",
       "\n",
       "                   portfolio_preferred  2010_return_category  \\\n",
       "greatstone_rating                                              \n",
       "0.0                           0.334418            -18.952857   \n",
       "1.0                           0.287857             11.909681   \n",
       "2.0                           0.208675             13.362833   \n",
       "3.0                           0.282588             13.636393   \n",
       "4.0                           0.351867             13.561193   \n",
       "5.0                           0.441923             12.293819   \n",
       "\n",
       "                   2013_category_return         Year     Month  DayOfMonth  \\\n",
       "greatstone_rating                                                            \n",
       "0.0                           -9.358611  2015.672350  7.332098   18.655300   \n",
       "1.0                           16.518415  2006.998532  6.659325   20.187225   \n",
       "2.0                           17.180126  2006.082739  6.678554   19.806705   \n",
       "3.0                           17.072329  2006.195655  6.857396   19.994089   \n",
       "4.0                           16.016686  2006.230870  6.935000   19.947609   \n",
       "5.0                           13.995196  2007.693489  6.973587   20.363636   \n",
       "\n",
       "                    Weekday   DayOfYear  \n",
       "greatstone_rating                        \n",
       "0.0                2.425500  210.868050  \n",
       "1.0                2.925844  191.762849  \n",
       "2.0                2.857109  191.950071  \n",
       "3.0                2.757352  197.595537  \n",
       "4.0                2.725000  199.912609  \n",
       "5.0                2.783170  201.489558  \n",
       "\n",
       "[6 rows x 125 columns]"
      ]
     },
     "execution_count": 30,
     "metadata": {},
     "output_type": "execute_result"
    }
   ],
   "source": [
    "df.groupby('greatstone_rating').mean()"
   ]
  },
  {
   "cell_type": "code",
   "execution_count": 31,
   "metadata": {
    "collapsed": false,
    "jupyter": {
     "outputs_hidden": false
    }
   },
   "outputs": [
    {
     "data": {
      "text/plain": [
       "<Figure size 1080x576 with 0 Axes>"
      ]
     },
     "execution_count": 31,
     "metadata": {},
     "output_type": "execute_result"
    },
    {
     "data": {
      "text/plain": [
       "<matplotlib.axes._subplots.AxesSubplot at 0x7fadbcd5cba8>"
      ]
     },
     "execution_count": 31,
     "metadata": {},
     "output_type": "execute_result"
    },
    {
     "data": {
      "image/png": "[encoded data removed]",
      "text/plain": [
       "<Figure size 1080x576 with 2 Axes>"
      ]
     },
     "metadata": {
      "needs_background": "light"
     },
     "output_type": "display_data"
    }
   ],
   "source": [
    "\n",
    "#  Finding a correlation b/w columns\n",
    "\n",
    "plt.figure(figsize=(15,8))\n",
    "\n",
    "sns.heatmap(df[['fund_size','Year', 'DayOfYear','greatstone_rating']].corr(),\n",
    "            annot=True,\n",
    "            linewidths=.5,\n",
    "            center=0,\n",
    "            cbar=True,\n",
    "            cmap=\"YlGnBu\")"
   ]
  },
  {
   "cell_type": "code",
   "execution_count": null,
   "metadata": {
    "collapsed": true,
    "jupyter": {
     "outputs_hidden": true
    }
   },
   "outputs": [],
   "source": []
  },
  {
   "cell_type": "code",
   "execution_count": null,
   "metadata": {
    "collapsed": true,
    "jupyter": {
     "outputs_hidden": true
    }
   },
   "outputs": [],
   "source": []
  },
  {
   "cell_type": "code",
   "execution_count": 65,
   "metadata": {
    "collapsed": true,
    "jupyter": {
     "outputs_hidden": true
    }
   },
   "outputs": [],
   "source": [
    "def find_cum_sum(col1, col2='', drop=False):\n",
    "  filtered_col = []\n",
    "  for col in df.drop('greatstone_rating', axis=1).columns:\n",
    "    if( (col.find(col1) != -1) or (col2 != '' and col.find(col2) != -1)):\n",
    "      filtered_col.append(col)\n",
    "  df[col1+'_cumsum'] = np.cumsum(df[filtered_col],axis=1).iloc[:,-1]\n",
    "  df[col1+'_mean'] = df[filtered_col].mean(axis=1, skipna=True)\n",
    "  if(drop):\n",
    "    df.drop(columns=filtered_col, axis=1, inplace=True)\n",
    "    return \n",
    "  return df[filtered_col]"
   ]
  },
  {
   "cell_type": "code",
   "execution_count": 69,
   "metadata": {
    "collapsed": false,
    "jupyter": {
     "outputs_hidden": false
    }
   },
   "outputs": [
    {
     "data": {
      "text/plain": [
       "(19912, 110)"
      ]
     },
     "execution_count": 69,
     "metadata": {},
     "output_type": "execute_result"
    },
    {
     "data": {
      "text/plain": [
       "(19912, 96)"
      ]
     },
     "execution_count": 69,
     "metadata": {},
     "output_type": "execute_result"
    }
   ],
   "source": [
    "df.shape\n",
    "find_cum_sum('fund_return','return_fund', True)\n",
    "df.shape"
   ]
  },
  {
   "cell_type": "code",
   "execution_count": 66,
   "metadata": {
    "collapsed": false,
    "jupyter": {
     "outputs_hidden": false
    }
   },
   "outputs": [
    {
     "data": {
      "text/plain": [
       "(19912, 104)"
      ]
     },
     "execution_count": 66,
     "metadata": {},
     "output_type": "execute_result"
    }
   ],
   "source": [
    "cols = ['return_category','fund_std','alpha_fund','beta_fund', 'sharpe_ratio_fund', 'treynor_ratio_fund', 'category_return']\n",
    "for col in cols:\n",
    "  find_cum_sum(col, drop=True)\n",
    "df.shape"
   ]
  },
  {
   "cell_type": "code",
   "execution_count": 67,
   "metadata": {
    "collapsed": false,
    "jupyter": {
     "outputs_hidden": false
    }
   },
   "outputs": [
    {
     "data": {
      "text/plain": [
       "(19912, 110)"
      ]
     },
     "execution_count": 67,
     "metadata": {},
     "output_type": "execute_result"
    }
   ],
   "source": [
    "cols = ['fund_r_squared','mean_annual_fund','rating']\n",
    "for col in cols:\n",
    "  _ = find_cum_sum(col, drop=False)\n",
    "df.shape"
   ]
  },
  {
   "cell_type": "code",
   "execution_count": null,
   "metadata": {
    "collapsed": true,
    "jupyter": {
     "outputs_hidden": true
    }
   },
   "outputs": [],
   "source": []
  },
  {
   "cell_type": "markdown",
   "metadata": {},
   "source": [
    "## Handle missing values and outliers"
   ]
  },
  {
   "cell_type": "code",
   "execution_count": 70,
   "metadata": {
    "collapsed": false,
    "jupyter": {
     "outputs_hidden": false
    }
   },
   "outputs": [
    {
     "data": {
      "text/html": [
       "<div>\n",
       "<style scoped>\n",
       "    .dataframe tbody tr th:only-of-type {\n",
       "        vertical-align: middle;\n",
       "    }\n",
       "\n",
       "    .dataframe tbody tr th {\n",
       "        vertical-align: top;\n",
       "    }\n",
       "\n",
       "    .dataframe thead th {\n",
       "        text-align: right;\n",
       "    }\n",
       "</style>\n",
       "<table border=\"1\" class=\"dataframe\">\n",
       "  <thead>\n",
       "    <tr style=\"text-align: right;\">\n",
       "      <th></th>\n",
       "      <th>0</th>\n",
       "      <th>1</th>\n",
       "      <th>2</th>\n",
       "    </tr>\n",
       "  </thead>\n",
       "  <tbody>\n",
       "    <tr>\n",
       "      <th>return_category_cumsum</th>\n",
       "      <td>9162</td>\n",
       "      <td>float64</td>\n",
       "      <td>128</td>\n",
       "    </tr>\n",
       "    <tr>\n",
       "      <th>alpha_fund_cumsum</th>\n",
       "      <td>6808</td>\n",
       "      <td>float64</td>\n",
       "      <td>5602</td>\n",
       "    </tr>\n",
       "    <tr>\n",
       "      <th>10_years_return_mean_annual_fund</th>\n",
       "      <td>6808</td>\n",
       "      <td>float64</td>\n",
       "      <td>293</td>\n",
       "    </tr>\n",
       "    <tr>\n",
       "      <th>treynor_ratio_fund_cumsum</th>\n",
       "      <td>6808</td>\n",
       "      <td>float64</td>\n",
       "      <td>6286</td>\n",
       "    </tr>\n",
       "    <tr>\n",
       "      <th>mean_annual_fund_cumsum</th>\n",
       "      <td>6808</td>\n",
       "      <td>float64</td>\n",
       "      <td>1089</td>\n",
       "    </tr>\n",
       "    <tr>\n",
       "      <th>sharpe_ratio_fund_cumsum</th>\n",
       "      <td>6808</td>\n",
       "      <td>float64</td>\n",
       "      <td>1131</td>\n",
       "    </tr>\n",
       "    <tr>\n",
       "      <th>beta_fund_cumsum</th>\n",
       "      <td>6808</td>\n",
       "      <td>float64</td>\n",
       "      <td>654</td>\n",
       "    </tr>\n",
       "    <tr>\n",
       "      <th>fund_std_cumsum</th>\n",
       "      <td>6808</td>\n",
       "      <td>float64</td>\n",
       "      <td>5879</td>\n",
       "    </tr>\n",
       "    <tr>\n",
       "      <th>fund_r_squared_cumsum</th>\n",
       "      <td>6808</td>\n",
       "      <td>float64</td>\n",
       "      <td>9425</td>\n",
       "    </tr>\n",
       "    <tr>\n",
       "      <th>10years_fund_r_squared</th>\n",
       "      <td>6808</td>\n",
       "      <td>float64</td>\n",
       "      <td>4700</td>\n",
       "    </tr>\n",
       "  </tbody>\n",
       "</table>\n",
       "</div>"
      ],
      "text/plain": [
       "                                     0        1     2\n",
       "return_category_cumsum            9162  float64   128\n",
       "alpha_fund_cumsum                 6808  float64  5602\n",
       "10_years_return_mean_annual_fund  6808  float64   293\n",
       "treynor_ratio_fund_cumsum         6808  float64  6286\n",
       "mean_annual_fund_cumsum           6808  float64  1089\n",
       "sharpe_ratio_fund_cumsum          6808  float64  1131\n",
       "beta_fund_cumsum                  6808  float64   654\n",
       "fund_std_cumsum                   6808  float64  5879\n",
       "fund_r_squared_cumsum             6808  float64  9425\n",
       "10years_fund_r_squared            6808  float64  4700"
      ]
     },
     "execution_count": 70,
     "metadata": {},
     "output_type": "execute_result"
    }
   ],
   "source": [
    "df_tmp = pd.concat([pd.isna(df).sum(),df.dtypes,df.nunique()],axis=1).sort_values(by=0, ascending=False)\n",
    "df_tmp.head(10)"
   ]
  },
  {
   "cell_type": "code",
   "execution_count": 42,
   "metadata": {
    "collapsed": false,
    "jupyter": {
     "outputs_hidden": false
    }
   },
   "outputs": [
    {
     "data": {
      "text/plain": [
       "(10750, 102)"
      ]
     },
     "execution_count": 42,
     "metadata": {},
     "output_type": "execute_result"
    },
    {
     "data": {
      "text/plain": [
       "bb_rating                  0\n",
       "us_govt_bond_rating        0\n",
       "below_b_rating             0\n",
       "others_rating              0\n",
       "b_rating                   0\n",
       "                          ..\n",
       "fund_r_squared_mean        0\n",
       "mean_annual_fund_cumsum    0\n",
       "mean_annual_fund_mean      0\n",
       "rating_cumsum              0\n",
       "rating_mean                0\n",
       "Length: 102, dtype: int64"
      ]
     },
     "execution_count": 42,
     "metadata": {},
     "output_type": "execute_result"
    }
   ],
   "source": [
    "df_temp = df.copy()\n",
    "df_temp.shape\n",
    "\n",
    "# df=df[~df['return_category_cumsum'].isnull()]\n",
    "# df.dropna(inplace=True)\n",
    "df.isnull().sum()"
   ]
  },
  {
   "cell_type": "code",
   "execution_count": 71,
   "metadata": {
    "collapsed": false,
    "jupyter": {
     "outputs_hidden": false
    }
   },
   "outputs": [
    {
     "data": {
      "text/plain": [
       "(19912, 95)"
      ]
     },
     "execution_count": 71,
     "metadata": {},
     "output_type": "execute_result"
    }
   ],
   "source": [
    "from sklearn.impute import SimpleImputer\n",
    "imputer = SimpleImputer(missing_values=np.nan, strategy='mean')\n",
    "\n",
    "# Split the target and features\n",
    "X = df.drop('greatstone_rating', axis=1)\n",
    "y = df[['greatstone_rating']] # Target column\n",
    "\n",
    "\n",
    "X_imputed = imputer.fit_transform(X)\n",
    "X_imputed.shape"
   ]
  },
  {
   "cell_type": "markdown",
   "metadata": {
    "colab_type": "text",
    "id": "kFARLzq3NDov"
   },
   "source": [
    "## Spliting the Data"
   ]
  },
  {
   "cell_type": "code",
   "execution_count": 72,
   "metadata": {
    "colab": {
     "base_uri": "https://localhost:8080/",
     "height": 34
    },
    "colab_type": "code",
    "collapsed": false,
    "id": "E1jc6WZTNDow",
    "jupyter": {
     "outputs_hidden": false
    },
    "outputId": "9a1f6c00-777a-4f01-ff60-77a8178ed70d"
   },
   "outputs": [
    {
     "data": {
      "text/plain": [
       "((15929, 95), (3983, 95), (15929, 1), (3983, 1))"
      ]
     },
     "execution_count": 72,
     "metadata": {},
     "output_type": "execute_result"
    }
   ],
   "source": [
    "\n",
    "X_train, X_test, y_train, y_test = train_test_split(X_imputed, y, test_size=0.2, random_state=1, shuffle=True)\n",
    "X_train.shape, X_test.shape, y_train.shape, y_test.shape\n",
    "\n",
    "# from sklearn.preprocessing import MinMaxScaler, StandardScaler\n",
    "scaler = StandardScaler()\n",
    "X_train_std = scaler.fit_transform(X_train)\n",
    "X_test_std = scaler.fit_transform(X_test)"
   ]
  },
  {
   "cell_type": "markdown",
   "metadata": {
    "colab_type": "text",
    "id": "CypVgOguNDod"
   },
   "source": [
    "## Common/Global methods\n",
    "These methods are used commonly, moving these to separate section for easy access"
   ]
  },
  {
   "cell_type": "code",
   "execution_count": 73,
   "metadata": {
    "colab": {},
    "colab_type": "code",
    "collapsed": true,
    "id": "9XfZP5sxNDoe",
    "jupyter": {
     "outputs_hidden": true
    }
   },
   "outputs": [],
   "source": [
    "# This function is used to get cross validation scores and model accuracy\n",
    "def evaluate_save_model(model, train_feature, train_target, test_feature, test_target, model_name, resultsDf=pd.DataFrame()):\n",
    "    ''' Evaluate model and save the result for future comparision'''\n",
    "    \n",
    "    # Cross validation scores\n",
    "    scores = cross_val_score(model,\n",
    "                             train_feature,\n",
    "                             train_target,\n",
    "                             cv=5,\n",
    "                             scoring='r2')\n",
    "    \n",
    "    # Get model accuracy\n",
    "    accuracy = model.score(test_feature, test_target)\n",
    "    \n",
    "    # Get R2 and Mean\n",
    "    y_pred = model.predict(test_feature) \n",
    "    r2_val = r2_score(test_target, y_pred)\n",
    "    \n",
    "    # RMSE - Root Mean Square Error\n",
    "    rmse = np.sqrt(mean_squared_error(y_test, y_pred))\n",
    "    \n",
    "    print('Accuracy: ', accuracy)\n",
    "    print('R2 value: ', r2_val)\n",
    "    print('RMSE: ', rmse)\n",
    "    print('CV Mean: ', np.mean(scores))\n",
    "    print('STD: ', np.std(scores))\n",
    "    print('-----------------------------------')\n",
    "    \n",
    "    result = {'Method':[model_name], 'accuracy': round(accuracy,2), 'r2': round(r2_val,4), 'rmse':round(rmse,4), \n",
    "              'mean':round(np.mean(scores),4), 'std': round(np.std(scores),4)}\n",
    "    \n",
    "    # Save model result for comparision\n",
    "    if resultsDf.empty:\n",
    "        resultsDf = pd.DataFrame(result)\n",
    "    else:\n",
    "        tmpResultsDf = pd.DataFrame(result)\n",
    "        resultsDf = pd.concat([resultsDf, tmpResultsDf])\n",
    "    \n",
    "    print(resultsDf.sort_values(by='accuracy',ascending=False).reset_index(drop=True))\n",
    "    \n",
    "    return resultsDf.sort_values(by='accuracy',ascending=False).reset_index(drop=True)\n"
   ]
  },
  {
   "cell_type": "markdown",
   "metadata": {
    "colab_type": "text",
    "id": "EuXSEkOLNDoy"
   },
   "source": [
    "## Model building using Logistic Regression"
   ]
  },
  {
   "cell_type": "code",
   "execution_count": 74,
   "metadata": {
    "colab": {
     "base_uri": "https://localhost:8080/",
     "height": 119
    },
    "colab_type": "code",
    "collapsed": false,
    "id": "Y-lLnML1NDoy",
    "jupyter": {
     "outputs_hidden": false
    },
    "outputId": "90fa32ed-0482-440d-f53f-a8d69ecbc17f"
   },
   "outputs": [
    {
     "data": {
      "text/plain": [
       "LogisticRegression(C=1.0, class_weight=None, dual=False, fit_intercept=True,\n",
       "                   intercept_scaling=1, l1_ratio=None, max_iter=100,\n",
       "                   multi_class='auto', n_jobs=None, penalty='l2',\n",
       "                   random_state=None, solver='lbfgs', tol=0.0001, verbose=0,\n",
       "                   warm_start=False)"
      ]
     },
     "execution_count": 74,
     "metadata": {},
     "output_type": "execute_result"
    }
   ],
   "source": [
    "from sklearn.linear_model import LogisticRegression\n",
    "\n",
    "logreg = LogisticRegression()\n",
    "logreg.fit(X_train_std, y_train)"
   ]
  },
  {
   "cell_type": "code",
   "execution_count": 75,
   "metadata": {
    "colab": {
     "base_uri": "https://localhost:8080/",
     "height": 51
    },
    "colab_type": "code",
    "collapsed": false,
    "id": "UwDC4bArNDo0",
    "jupyter": {
     "outputs_hidden": false
    },
    "outputId": "44f8ecd2-d985-45b5-9139-d8a88cb8aafc"
   },
   "outputs": [
    {
     "name": "stdout",
     "output_type": "stream",
     "text": [
      "Accuracy:  0.6409741400954054\n",
      "R2 value:  0.5781314451775381\n",
      "RMSE:  0.8277450925481282\n",
      "CV Mean:  0.5902564905615921\n",
      "STD:  0.009637063339585604\n",
      "-----------------------------------\n",
      "         Method  accuracy      r2    rmse    mean     std\n",
      "0  Logistic Reg      0.64  0.5781  0.8277  0.5903  0.0096\n"
     ]
    }
   ],
   "source": [
    "resultsDf = evaluate_save_model(logreg, X_train_std, y_train, X_test_std, y_test, 'Logistic Reg')"
   ]
  },
  {
   "cell_type": "markdown",
   "metadata": {
    "colab": {},
    "colab_type": "code",
    "id": "Xtxu9CUNNDo3",
    "outputId": "6e5062e6-b6a0-46a0-803d-40bc606da311"
   },
   "source": [
    "## K-Nearest Neighbors"
   ]
  },
  {
   "cell_type": "code",
   "execution_count": 76,
   "metadata": {
    "colab": {},
    "colab_type": "code",
    "collapsed": false,
    "id": "z7DkOZSDNDo5",
    "jupyter": {
     "outputs_hidden": false
    }
   },
   "outputs": [
    {
     "data": {
      "text/plain": [
       "KNeighborsClassifier(algorithm='auto', leaf_size=30, metric='minkowski',\n",
       "                     metric_params=None, n_jobs=None, n_neighbors=5, p=2,\n",
       "                     weights='uniform')"
      ]
     },
     "execution_count": 76,
     "metadata": {},
     "output_type": "execute_result"
    }
   ],
   "source": [
    "from sklearn.neighbors import KNeighborsClassifier\n",
    "knn = KNeighborsClassifier()\n",
    "knn.fit(X_train, y_train)"
   ]
  },
  {
   "cell_type": "code",
   "execution_count": 77,
   "metadata": {
    "collapsed": false,
    "jupyter": {
     "outputs_hidden": false
    }
   },
   "outputs": [
    {
     "name": "stdout",
     "output_type": "stream",
     "text": [
      "Accuracy:  0.4381119758975647\n",
      "R2 value:  -0.04531885954909742\n",
      "RMSE:  1.302964040172416\n",
      "CV Mean:  -0.08786480838989888\n",
      "STD:  0.02206703957226663\n",
      "-----------------------------------\n",
      "         Method  accuracy      r2    rmse    mean     std\n",
      "0  Logistic Reg      0.64  0.5781  0.8277  0.5903  0.0096\n",
      "1           KNN      0.44 -0.0453  1.3030 -0.0879  0.0221\n"
     ]
    }
   ],
   "source": [
    "resultsDf = evaluate_save_model(knn, X_train, y_train, X_test, y_test, 'KNN', resultsDf)"
   ]
  },
  {
   "cell_type": "markdown",
   "metadata": {},
   "source": [
    "## Linear Discriminant Analysis"
   ]
  },
  {
   "cell_type": "code",
   "execution_count": 48,
   "metadata": {
    "collapsed": false,
    "jupyter": {
     "outputs_hidden": false
    }
   },
   "outputs": [
    {
     "data": {
      "text/plain": [
       "LinearDiscriminantAnalysis(n_components=None, priors=None, shrinkage=None,\n",
       "                           solver='svd', store_covariance=False, tol=0.0001)"
      ]
     },
     "execution_count": 48,
     "metadata": {},
     "output_type": "execute_result"
    }
   ],
   "source": [
    "from sklearn.discriminant_analysis import LinearDiscriminantAnalysis\n",
    "lda = LinearDiscriminantAnalysis()\n",
    "lda.fit(X_train_std, y_train)\n"
   ]
  },
  {
   "cell_type": "code",
   "execution_count": 49,
   "metadata": {
    "collapsed": false,
    "jupyter": {
     "outputs_hidden": false
    }
   },
   "outputs": [
    {
     "name": "stdout",
     "output_type": "stream",
     "text": [
      "Accuracy:  0.5553602811950791\n",
      "R2 value:  0.4283831755036466\n",
      "RMSE:  0.9508377320388809\n",
      "CV Mean:  0.44116415985058144\n",
      "STD:  0.019939631428967777\n",
      "-----------------------------------\n",
      "         Method  accuracy      r2    rmse    mean     std\n",
      "0  Logistic Reg      0.63  0.5814  0.8137  0.5946  0.0144\n",
      "1           KNN      0.56  0.4398  0.9413  0.4276  0.0160\n",
      "2           LDA      0.56  0.4284  0.9508  0.4412  0.0199\n"
     ]
    }
   ],
   "source": [
    "resultsDf = evaluate_save_model(lda, X_train_std, y_train, X_test_std, y_test, 'LDA', resultsDf)"
   ]
  },
  {
   "cell_type": "markdown",
   "metadata": {},
   "source": [
    "## Support Vector Machine"
   ]
  },
  {
   "cell_type": "code",
   "execution_count": 46,
   "metadata": {
    "collapsed": false,
    "jupyter": {
     "outputs_hidden": false
    }
   },
   "outputs": [
    {
     "data": {
      "text/plain": [
       "SVC(C=1, break_ties=False, cache_size=200, class_weight=None, coef0=0.0,\n",
       "    decision_function_shape='ovr', degree=3, gamma=0.01, kernel='rbf',\n",
       "    max_iter=-1, probability=False, random_state=None, shrinking=True,\n",
       "    tol=0.001, verbose=False)"
      ]
     },
     "execution_count": 46,
     "metadata": {},
     "output_type": "execute_result"
    }
   ],
   "source": [
    "from sklearn.svm import SVC\n",
    "svm = SVC(C=1, gamma= 0.01, kernel='rbf')\n",
    "svm.fit(X_train, y_train)"
   ]
  },
  {
   "cell_type": "code",
   "execution_count": 47,
   "metadata": {
    "collapsed": false,
    "jupyter": {
     "outputs_hidden": false
    }
   },
   "outputs": [
    {
     "name": "stdout",
     "output_type": "stream",
     "text": [
      "Accuracy:  0.3614457831325301\n",
      "R2 value:  -0.002052327951920452\n",
      "RMSE:  1.0870726321780537\n",
      "CV Mean:  -0.00014710215465694177\n",
      "STD:  2.531071120954826e-05\n",
      "-----------------------------------\n",
      "             Method  accuracy      r2    rmse    mean     std\n",
      "0  RandomForest_opt      0.81  0.8344  0.4419  0.7879  0.0154\n",
      "1      RandomForest      0.80  0.8233  0.4564  0.7746  0.0141\n",
      "2      Logistic Reg      0.74  0.7676  0.5235  0.7326  0.0172\n",
      "3               SVM      0.36 -0.0021  1.0871 -0.0001  0.0000\n"
     ]
    }
   ],
   "source": [
    "resultsDf = evaluate_save_model(svm, X_train, y_train, X_test, y_test, 'SVM', resultsDf)"
   ]
  },
  {
   "cell_type": "markdown",
   "metadata": {},
   "source": [
    "## LGBMClassifier"
   ]
  },
  {
   "cell_type": "code",
   "execution_count": 106,
   "metadata": {
    "colab": {
     "base_uri": "https://localhost:8080/",
     "height": 136
    },
    "colab_type": "code",
    "collapsed": false,
    "id": "3PZ-LwnbNDo9",
    "jupyter": {
     "outputs_hidden": false
    },
    "outputId": "402eb9e5-cdaf-4b03-c140-db4d4a8960a2"
   },
   "outputs": [
    {
     "data": {
      "text/plain": [
       "LGBMClassifier(boosting_type='gbdt', class_weight=None, colsample_bytree=1.0,\n",
       "               importance_type='split', learning_rate=0.01, max_depth=-1,\n",
       "               min_child_samples=20, min_child_weight=0.001, min_split_gain=0.0,\n",
       "               n_estimators=2000, n_jobs=-1, num_leaves=31,\n",
       "               objective='multiclass', random_state=None, reg_alpha=0.0,\n",
       "               reg_lambda=0.0, silent=True, subsample=1.0,\n",
       "               subsample_for_bin=200000, subsample_freq=0)"
      ]
     },
     "execution_count": 106,
     "metadata": {},
     "output_type": "execute_result"
    }
   ],
   "source": [
    "from lightgbm import LGBMClassifier\n",
    "lgbmModel = LGBMClassifier(n_estimators=2000, objective='multiclass',learning_rate=0.01)\n",
    "lgbmModel.fit(X_train_std, y_train)"
   ]
  },
  {
   "cell_type": "code",
   "execution_count": null,
   "metadata": {
    "colab": {
     "base_uri": "https://localhost:8080/",
     "height": 119
    },
    "colab_type": "code",
    "collapsed": false,
    "id": "7dii3wnUNDo_",
    "jupyter": {
     "outputs_hidden": false
    },
    "outputId": "cfb28f26-1ace-414e-924c-65536b46dd77"
   },
   "outputs": [],
   "source": [
    "resultsDf = evaluate_save_model(lgbmModel, X_train_std, y_train, X_test_std, y_test, 'LGBM', resultsDf)"
   ]
  },
  {
   "cell_type": "markdown",
   "metadata": {
    "colab_type": "text",
    "id": "MvArXP1b29Nc"
   },
   "source": [
    "## CatBoostClassifier"
   ]
  },
  {
   "cell_type": "code",
   "execution_count": null,
   "metadata": {
    "colab": {},
    "colab_type": "code",
    "collapsed": false,
    "id": "YsQWuXWpTgTX",
    "jupyter": {
     "outputs_hidden": false
    }
   },
   "outputs": [],
   "source": [
    "model_catboost = CatBoostClassifier(\n",
    "    depth=10, iterations= 250, learning_rate= 0.06)\n",
    "model_catboost.fit(X_train_std, y_train)"
   ]
  },
  {
   "cell_type": "code",
   "execution_count": null,
   "metadata": {
    "colab": {},
    "colab_type": "code",
    "collapsed": false,
    "id": "O9paH1ntNDpE",
    "jupyter": {
     "outputs_hidden": false
    }
   },
   "outputs": [],
   "source": [
    "resultsDf = evaluate_save_model(model_catboost, X_train_std, y_train, X_test_std, y_test, 'CatBoost', resultsDf)"
   ]
  },
  {
   "cell_type": "code",
   "execution_count": null,
   "metadata": {
    "colab": {
     "base_uri": "https://localhost:8080/",
     "height": 238
    },
    "colab_type": "code",
    "collapsed": false,
    "id": "d7g5GhrvNDpF",
    "jupyter": {
     "outputs_hidden": false
    },
    "outputId": "1ec09a38-8924-4de3-8e03-a10ffc3fdecb"
   },
   "outputs": [],
   "source": [
    "resultsDf"
   ]
  },
  {
   "cell_type": "markdown",
   "metadata": {},
   "source": [
    "## Random Forest"
   ]
  },
  {
   "cell_type": "code",
   "execution_count": 18,
   "metadata": {
    "collapsed": true,
    "jupyter": {
     "outputs_hidden": true
    }
   },
   "outputs": [],
   "source": [
    "from sklearn.ensemble import RandomForestClassifier\n",
    "rfcl = RandomForestClassifier(random_state=7) #n_estimators = 50, random_state=1,max_features=12)\n",
    "rfcl = rfcl.fit(X_train, y_train)"
   ]
  },
  {
   "cell_type": "code",
   "execution_count": 44,
   "metadata": {
    "collapsed": false,
    "jupyter": {
     "outputs_hidden": false
    }
   },
   "outputs": [
    {
     "name": "stdout",
     "output_type": "stream",
     "text": [
      "Accuracy:  0.8007028112449799\n",
      "R2 value:  0.8233425165250438\n",
      "RMSE:  0.45643546458763845\n",
      "CV Mean:  0.7746131402710508\n",
      "STD:  0.014111579997435552\n",
      "-----------------------------------\n",
      "         Method  accuracy      r2    rmse    mean     std\n",
      "0  RandomForest      0.80  0.8233  0.4564  0.7746  0.0141\n",
      "1  Logistic Reg      0.74  0.7676  0.5235  0.7326  0.0172\n"
     ]
    }
   ],
   "source": [
    "resultsDf = evaluate_save_model(rfcl, X_train, y_train, X_test, y_test, 'RandomForest', resultsDf)"
   ]
  },
  {
   "cell_type": "code",
   "execution_count": null,
   "metadata": {
    "collapsed": false,
    "jupyter": {
     "outputs_hidden": false
    }
   },
   "outputs": [],
   "source": [
    "params = {'n_estimators': [10,20,50,100, 150, 200], 'criterion':['gini','entropy'], 'bootstrap':[True,False], 'max_depth':[5, 8, 11, 3, 15, 18]}\n",
    "\n",
    "model1 = GridSearchCV(rfcl, param_grid=params, verbose=5)\n",
    "\n",
    "model1.fit(X_train, y_train)\n",
    "\n",
    "print(\"Best Hyper Parameters:\\n\", model1.best_params_)"
   ]
  },
  {
   "cell_type": "code",
   "execution_count": 86,
   "metadata": {
    "collapsed": false,
    "jupyter": {
     "outputs_hidden": false
    }
   },
   "outputs": [
    {
     "name": "stdout",
     "output_type": "stream",
     "text": [
      "Accuracy:  0.7961335676625659\n",
      "R2 value:  0.8585526831577308\n",
      "RMSE:  0.47929775394003343\n",
      "CV Mean:  0.8461025834171881\n",
      "STD:  0.007720058090112144\n",
      "-----------------------------------\n",
      "                 Method  accuracy      r2    rmse    mean     std\n",
      "0      RandomForest_opt      0.80  0.8586  0.4793  0.8461  0.0077\n",
      "1          Logistic Reg      0.64  0.5781  0.8277  0.5903  0.0096\n",
      "2                   KNN      0.44 -0.0453  1.3030 -0.0879  0.0221\n",
      "3  RandomForest_opt_pca      0.32 -0.7696  1.6953  0.3851  0.0189\n",
      "4  RandomForest_opt_pca      0.24 -0.6337  1.6289  0.5947  0.0110\n"
     ]
    }
   ],
   "source": [
    "from sklearn.ensemble import RandomForestClassifier\n",
    "rfcl = RandomForestClassifier(bootstrap= False, criterion='entropy', max_depth=18, n_estimators=150) #n_estimators = 50, random_state=1,max_features=12)\n",
    "rfcl = rfcl.fit(X_train, y_train)\n",
    "resultsDf = evaluate_save_model(rfcl, X_train, y_train, X_test, y_test, 'RandomForest_opt', resultsDf)"
   ]
  },
  {
   "cell_type": "code",
   "execution_count": 50,
   "metadata": {
    "collapsed": false,
    "jupyter": {
     "outputs_hidden": false
    }
   },
   "outputs": [
    {
     "name": "stdout",
     "output_type": "stream",
     "text": [
      "Accuracy:  0.7023092369477911\n",
      "R2 value:  0.673077235400563\n",
      "RMSE:  0.6209204205650664\n",
      "CV Mean:  0.5929969596220555\n",
      "STD:  0.01877837507156831\n",
      "-----------------------------------\n",
      "                 Method  accuracy      r2    rmse    mean     std\n",
      "0      RandomForest_opt      0.81  0.8344  0.4419  0.7879  0.0154\n",
      "1     RandomForest_opt_      0.81  0.8336  0.4430  0.7931  0.0145\n",
      "2          RandomForest      0.80  0.8233  0.4564  0.7746  0.0141\n",
      "3  RandomForest_opt_std      0.76  0.7821  0.5070  0.7904  0.0148\n",
      "4          Logistic Reg      0.74  0.7676  0.5235  0.7326  0.0172\n",
      "5                 DTree      0.70  0.6731  0.6209  0.5930  0.0188\n",
      "6                   SVM      0.36 -0.0021  1.0871 -0.0001  0.0000\n"
     ]
    }
   ],
   "source": [
    "from sklearn.tree import DecisionTreeClassifier\n",
    "decision_tree = DecisionTreeClassifier()\n",
    "decision_tree = decision_tree.fit(X_train, y_train)\n",
    "resultsDf = evaluate_save_model(decision_tree, X_train, y_train, X_test, y_test, 'DTree', resultsDf)"
   ]
  },
  {
   "cell_type": "markdown",
   "metadata": {},
   "source": [
    "## Ensemble Learning - Bagging"
   ]
  },
  {
   "cell_type": "code",
   "execution_count": 41,
   "metadata": {
    "collapsed": true,
    "jupyter": {
     "outputs_hidden": true
    }
   },
   "outputs": [],
   "source": [
    "from sklearn.ensemble import BaggingClassifier\n",
    "\n",
    "baggingModel = BaggingClassifier(base_estimator=rfcl, n_estimators=500, max_samples= .7, bootstrap=True, oob_score=True, random_state=1)\n",
    "baggingModel_predict = baggingModel.fit(X_train_std, y_train)"
   ]
  },
  {
   "cell_type": "code",
   "execution_count": null,
   "metadata": {
    "collapsed": false,
    "jupyter": {
     "outputs_hidden": false
    }
   },
   "outputs": [],
   "source": [
    "resultsDf = evaluate_save_model(baggingModel, X_train_std, y_train, X_test_std, y_test, 'Bagging', resultsDf)"
   ]
  },
  {
   "cell_type": "code",
   "execution_count": null,
   "metadata": {
    "collapsed": true,
    "jupyter": {
     "outputs_hidden": true
    }
   },
   "outputs": [],
   "source": []
  },
  {
   "cell_type": "markdown",
   "metadata": {
    "colab_type": "text",
    "id": "0vcFz5EevloD"
   },
   "source": [
    "## Feature Importance"
   ]
  },
  {
   "cell_type": "code",
   "execution_count": 28,
   "metadata": {
    "colab": {
     "base_uri": "https://localhost:8080/",
     "height": 170
    },
    "colab_type": "code",
    "collapsed": false,
    "id": "tiFsGFoxvkWh",
    "jupyter": {
     "outputs_hidden": false
    },
    "outputId": "9614a467-30ff-4355-fafe-f59f8b752c97"
   },
   "outputs": [
    {
     "data": {
      "text/plain": [
       "array(['a_rating', 'bb_rating', 'portfolio_convertable', 'b_rating',\n",
       "       'fund_name', 'category', 'below_b_rating', 'parent_company',\n",
       "       '10_years_return_mean_annual_category', 'portfolio_preferred',\n",
       "       'investment_class', 'fund_size',\n",
       "       '3_years_return_mean_annual_category',\n",
       "       '10yrs_sharpe_ratio_category', 'rating_mean', 'rating_cumsum',\n",
       "       '10_years_beta_category', '5_years_beta_category',\n",
       "       'category_beta_3years', 'us_govt_bond_rating'], dtype=object)"
      ]
     },
     "execution_count": 28,
     "metadata": {},
     "output_type": "execute_result"
    }
   ],
   "source": [
    "feature_imp = pd.DataFrame(sorted(zip(rfcl.feature_importances_, df.drop(['greatstone_rating'],axis=1).columns),reverse=True), columns=['Value','Feature'])\n",
    "#feature_imp.tail(20)\n",
    "feature_imp.tail(20)['Feature'].values\n",
    "\n",
    "# feature_imp = pd.DataFrame(sorted(zip(model_catboost.feature_importances_, df.drop(['greatstone_rating'],axis=1).columns),reverse=True), columns=['Value','Feature'])\n",
    "# # feature_imp.tail(20)\n",
    "# feature_imp.tail(20)['Feature'].values\n",
    "\n",
    "\n",
    "# plt.figure(figsize=(20, 10))\n",
    "# sns.barplot(x=\"Value\", y=\"Feature\", data=feature_imp.sort_values(by=\"Value\", ascending=False))\n",
    "# plt.title('LightGBM Features (avg over folds)')\n",
    "# plt.tight_layout()"
   ]
  },
  {
   "cell_type": "code",
   "execution_count": 29,
   "metadata": {
    "colab": {
     "base_uri": "https://localhost:8080/",
     "height": 34
    },
    "colab_type": "code",
    "collapsed": false,
    "id": "Np3QDlQNvkZa",
    "jupyter": {
     "outputs_hidden": false
    },
    "outputId": "01793eb3-7c25-4b24-f39a-c28b0ab97be4"
   },
   "outputs": [
    {
     "data": {
      "text/plain": [
       "(19912, 81)"
      ]
     },
     "execution_count": 29,
     "metadata": {},
     "output_type": "execute_result"
    },
    {
     "data": {
      "text/plain": [
       "(19912, 82)"
      ]
     },
     "execution_count": 29,
     "metadata": {},
     "output_type": "execute_result"
    }
   ],
   "source": [
    "# Drop the low feature columns\n",
    "drop_columns = ['a_rating', 'bb_rating', 'portfolio_convertable', 'b_rating',\n",
    "       'fund_name', 'category', 'below_b_rating', 'parent_company',\n",
    "       '10_years_return_mean_annual_category', 'portfolio_preferred',\n",
    "       'investment_class', 'fund_size',\n",
    "       '3_years_return_mean_annual_category',\n",
    "       '10yrs_sharpe_ratio_category', 'rating_mean', 'rating_cumsum',\n",
    "       '10_years_beta_category', '5_years_beta_category',\n",
    "       'category_beta_3years', 'us_govt_bond_rating'] \n",
    "\n",
    "high_columns = ['portfolio_utils_allocation', 'aaa_rating', 'portfolio_convertable', 'below_b_rating', 'aa_rating',\n",
    "'10years_category_std', 'bbb_rating', 'a_rating', 'portfolio_preferred', 'b_rating', 'investment_class',\n",
    "'10yrs_sharpe_ratio_category', '5_years_beta_category', 'fund_size', '10_years_beta_category', 'portfolio_consumer_defence_allocation',\n",
    "'mmc', 'ps_ratio', 'pc_ratio', 'investment_class', 'portfolio_healthcare_allocation', 'portfolio_industrials_allocation', '2011_return_category',\n",
    "'3years_category_std', '5years_category_std','greatstone_rating']\n",
    "\n",
    "# columns.append('greatstone_rating')\n",
    "# df_modified = df.drop(drop_columns, axis=1, errors='ignore')\n",
    "\n",
    "df_modified = df.drop(columns=drop_columns, axis=1)\n",
    "X_transform = imputer.fit_transform(df_modified.drop('greatstone_rating',axis=1))\n",
    "X_transform.shape\n",
    "df_modified.shape"
   ]
  },
  {
   "cell_type": "code",
   "execution_count": 30,
   "metadata": {
    "collapsed": false,
    "jupyter": {
     "outputs_hidden": false
    }
   },
   "outputs": [
    {
     "data": {
      "text/plain": [
       "((15929, 81), (3983, 81), (15929,), (3983,))"
      ]
     },
     "execution_count": 30,
     "metadata": {},
     "output_type": "execute_result"
    }
   ],
   "source": [
    "\n",
    "#X = df_modified.drop(['greatstone_rating'], axis=1) # Drop target column and columns used only for visualization\n",
    "X = X_transform\n",
    "y = df_modified['greatstone_rating'] # Target column\n",
    "\n",
    "\n",
    "X_train, X_test, y_train, y_test = train_test_split(X, y, test_size=0.2, random_state=1, shuffle=True)\n",
    "X_train.shape, X_test.shape, y_train.shape, y_test.shape\n",
    "\n",
    "\n",
    "scaler = StandardScaler()\n",
    "X_train = scaler.fit_transform(X_train)\n",
    "X_test = scaler.fit_transform(X_test)"
   ]
  },
  {
   "cell_type": "markdown",
   "metadata": {},
   "source": [
    "## PCA"
   ]
  },
  {
   "cell_type": "code",
   "execution_count": 80,
   "metadata": {
    "collapsed": true,
    "jupyter": {
     "outputs_hidden": true
    }
   },
   "outputs": [],
   "source": [
    "from sklearn.decomposition import PCA\n",
    "# Make an instance of the Model\n",
    "pca = PCA(n_components=3)\n",
    "X_train_pca = pca.fit_transform(X_train)\n",
    "X_test_pca = pca.fit_transform(X_test)\n",
    "\n",
    "\n"
   ]
  },
  {
   "cell_type": "code",
   "execution_count": 82,
   "metadata": {
    "collapsed": false,
    "jupyter": {
     "outputs_hidden": false
    }
   },
   "outputs": [
    {
     "data": {
      "text/plain": [
       "<BarContainer object of 3 artists>"
      ]
     },
     "execution_count": 82,
     "metadata": {},
     "output_type": "execute_result"
    },
    {
     "data": {
      "text/plain": [
       "Text(0, 0.5, 'Variation explained')"
      ]
     },
     "execution_count": 82,
     "metadata": {},
     "output_type": "execute_result"
    },
    {
     "data": {
      "text/plain": [
       "Text(0.5, 0, 'eigen Value')"
      ]
     },
     "execution_count": 82,
     "metadata": {},
     "output_type": "execute_result"
    },
    {
     "data": {
      "image/png": "[encoded data removed]",
      "text/plain": [
       "<Figure size 432x288 with 1 Axes>"
      ]
     },
     "metadata": {
      "needs_background": "light"
     },
     "output_type": "display_data"
    }
   ],
   "source": [
    "plt.bar(list(range(1,4)),pca.explained_variance_ratio_,alpha=0.5, align='center')\n",
    "plt.ylabel('Variation explained')\n",
    "plt.xlabel('eigen Value')\n",
    "plt.show()"
   ]
  },
  {
   "cell_type": "code",
   "execution_count": null,
   "metadata": {
    "collapsed": true,
    "jupyter": {
     "outputs_hidden": true
    }
   },
   "outputs": [],
   "source": [
    "plt.step(list(range(1,14)),np.cumsum(pca.explained_variance_ratio_), where='mid')\n",
    "plt.ylabel('Cum of variation explained')\n",
    "plt.xlabel('eigen Value')\n",
    "plt.show()"
   ]
  },
  {
   "cell_type": "code",
   "execution_count": 84,
   "metadata": {
    "collapsed": true,
    "jupyter": {
     "outputs_hidden": true
    }
   },
   "outputs": [],
   "source": [
    "pca_opt = PCA(n_components=6)\n",
    "\n",
    "X_train_pca = pca_opt.fit_transform(X_train_std)\n",
    "X_test_pca = pca_opt.fit_transform(X_test_std)"
   ]
  },
  {
   "cell_type": "code",
   "execution_count": 85,
   "metadata": {
    "collapsed": false,
    "jupyter": {
     "outputs_hidden": false
    }
   },
   "outputs": [
    {
     "name": "stdout",
     "output_type": "stream",
     "text": [
      "Accuracy:  0.24353502385136833\n",
      "R2 value:  -0.6336778627203286\n",
      "RMSE:  1.628888094623269\n",
      "CV Mean:  0.5947253171321905\n",
      "STD:  0.010979375193287403\n",
      "-----------------------------------\n",
      "                 Method  accuracy      r2    rmse    mean     std\n",
      "0          Logistic Reg      0.64  0.5781  0.8277  0.5903  0.0096\n",
      "1                   KNN      0.44 -0.0453  1.3030 -0.0879  0.0221\n",
      "2  RandomForest_opt_pca      0.32 -0.7696  1.6953  0.3851  0.0189\n",
      "3  RandomForest_opt_pca      0.24 -0.6337  1.6289  0.5947  0.0110\n"
     ]
    }
   ],
   "source": [
    "from sklearn.ensemble import RandomForestClassifier\n",
    "rfcl = RandomForestClassifier(bootstrap= False, criterion='entropy', max_depth=18, n_estimators=150) #n_estimators = 50, random_state=1,max_features=12)\n",
    "rfcl = rfcl.fit(X_train_pca, y_train)\n",
    "resultsDf = evaluate_save_model(rfcl, X_train_pca, y_train, X_test_pca, y_test, 'RandomForest_opt_pca', resultsDf)"
   ]
  },
  {
   "cell_type": "markdown",
   "metadata": {
    "colab_type": "text",
    "id": "1ZIQfy5WdNP-"
   },
   "source": [
    "## GridSearch CV"
   ]
  },
  {
   "cell_type": "code",
   "execution_count": null,
   "metadata": {
    "colab": {
     "base_uri": "https://localhost:8080/",
     "height": 51,
     "referenced_widgets": [
      "f43170f7c4274dfcbef1f17c990342c5",
      "77c7ae9b437a4b8fb1cdfcc48aa44ebb"
     ]
    },
    "colab_type": "code",
    "collapsed": true,
    "id": "3Oz6meBfvkug",
    "jupyter": {
     "outputs_hidden": true
    },
    "outputId": "5e9cf003-c0e8-44bd-9810-af4b8580381f"
   },
   "outputs": [],
   "source": [
    "# grid = {'iterations':[50, 100, 200],\n",
    "#         'learning_rate': [0.01, 0.03, 0.05, 0.07, 0.1],\n",
    "#         # 'subsample': [0.3, 0.05, 0.07],\n",
    "#         'depth': [4, 6, 8, 10],\n",
    "#         'l2_leaf_reg': [1, 3, 5, 7, 9]}\n",
    "\n",
    "# grid = {'iterations':[1],\n",
    "#         'learning_rate': [1],\n",
    "#         # 'subsample': [0.3, 0.05, 0.07],\n",
    "#         'depth': [4],\n",
    "#         'l2_leaf_reg': [3]}\n",
    "\n",
    "# model = CatBoostClassifier()\n",
    "# grid_search_result = model.grid_search(grid, \n",
    "#                                        X=X_train.drop('fund_id',axis=1), \n",
    "#                                        y=y_train, \n",
    "#                                        plot=True)\n",
    "\n",
    "\n",
    "# param_grid = { 'max_depth': [8, 12, 15, 20],\n",
    "#               'n_estimators': [300, 500, 1000],\n",
    "#               'learning_rate':[0.3, 0.7, 1.0]\n",
    "#              }\n",
    "\n",
    "# Random forest\n",
    "param_grid = {\n",
    "    'n_estimators'      : [200, 320,330,340],\n",
    "    'max_depth'         : [8, 10, 11, 12, 15],\n",
    "#     'random_state'      : [0],\n",
    "    'criterion' :['gini','entropy']\n",
    "}\n",
    "\n",
    "gs = GridSearchCV(RandomForestClassifier(), param_grid, cv=10)\n",
    "gs.fit(X_train_std, y_train)"
   ]
  },
  {
   "cell_type": "code",
   "execution_count": null,
   "metadata": {
    "colab": {
     "base_uri": "https://localhost:8080/",
     "height": 232
    },
    "colab_type": "code",
    "collapsed": true,
    "id": "UOgFx7p2vkxN",
    "jupyter": {
     "outputs_hidden": true
    },
    "outputId": "69459977-688a-4d9d-e70c-b889b18f81ed"
   },
   "outputs": [],
   "source": [
    "\n",
    "\n",
    "gs.best_params_\n",
    "print(\"========================================================\")\n",
    "gs.best_score_\n",
    "print(\"========================================================\")\n",
    "gs.best_estimator_"
   ]
  },
  {
   "cell_type": "markdown",
   "metadata": {
    "colab_type": "text",
    "id": "sFRTgY6FeCgU"
   },
   "source": [
    "## Randomized Search CV"
   ]
  },
  {
   "cell_type": "code",
   "execution_count": null,
   "metadata": {
    "colab": {
     "base_uri": "https://localhost:8080/",
     "height": 232
    },
    "colab_type": "code",
    "collapsed": true,
    "id": "yprTrjy7g143",
    "jupyter": {
     "outputs_hidden": true
    },
    "outputId": "9c04606d-9e40-417c-ebf2-f632e59a1701"
   },
   "outputs": [],
   "source": [
    "from scipy.stats import uniform as sp_randFloat\n",
    "from scipy.stats import randint as sp_randInt\n",
    "#!pip install catboost\n",
    "from catboost import CatBoostClassifier\n",
    "\n",
    "model1 = CatBoostClassifier()\n",
    "parameters = {'depth'         : sp_randInt(6, 15),\n",
    "              'learning_rate' : sp_randFloat(0.02, 1),\n",
    "              'iterations'    : sp_randInt(150, 200, 300),\n",
    "              'l2_leaf_reg'   : sp_randInt(1, 10)\n",
    "              }\n",
    "\n",
    "\n",
    "randm = RandomizedSearchCV(estimator=model1, param_distributions = parameters, \n",
    "                            cv = 2, n_iter = 10, n_jobs=-1)\n",
    "randm.fit(X_train, y_train)"
   ]
  },
  {
   "cell_type": "code",
   "execution_count": null,
   "metadata": {
    "colab": {
     "base_uri": "https://localhost:8080/",
     "height": 232
    },
    "colab_type": "code",
    "collapsed": true,
    "id": "dZ5PeQjHhaS5",
    "jupyter": {
     "outputs_hidden": true
    },
    "outputId": "624b0a64-b8b5-49f8-ebfe-450a920b9e95"
   },
   "outputs": [],
   "source": [
    "\n",
    "randm.best_params_\n",
    "print(\"========================================================\")\n",
    "randm.best_score_\n",
    "print(\"========================================================\")\n",
    "randm.best_estimator_"
   ]
  },
  {
   "cell_type": "markdown",
   "metadata": {
    "colab_type": "text",
    "id": "oYw6OwFL7pBF"
   },
   "source": [
    "## Optimized model"
   ]
  },
  {
   "cell_type": "code",
   "execution_count": 31,
   "metadata": {
    "collapsed": false,
    "jupyter": {
     "outputs_hidden": false
    }
   },
   "outputs": [
    {
     "name": "stdout",
     "output_type": "stream",
     "text": [
      "Accuracy:  0.7130303791112227\n",
      "R2 value:  0.40203260819834397\n",
      "RMSE:  0.9725068228356876\n",
      "CV Mean:  0.8494751650631184\n",
      "STD:  0.0048048827273136484\n",
      "-----------------------------------\n",
      "               Method  accuracy      r2    rmse    mean     std\n",
      "0    RandomForest_opt      0.79  0.8536  0.4811  0.8473  0.0060\n",
      "1        RandomForest      0.78  0.8417  0.5003  0.8372  0.0033\n",
      "2  RandomForest_opt_1      0.71  0.4020  0.9725  0.8495  0.0048\n",
      "3        Logistic Reg      0.63  0.5814  0.8137  0.5946  0.0144\n"
     ]
    }
   ],
   "source": [
    "from sklearn.ensemble import RandomForestClassifier\n",
    "rfcl = RandomForestClassifier(bootstrap= False, criterion='entropy', max_depth=18, n_estimators=150) #n_estimators = 50, random_state=1,max_features=12)\n",
    "rfcl = rfcl.fit(X_train, y_train)\n",
    "resultsDf = evaluate_save_model(rfcl, X_train, y_train, X_test, y_test, 'RandomForest_opt_1', resultsDf)"
   ]
  },
  {
   "cell_type": "markdown",
   "metadata": {},
   "source": [
    "## LGBMClassifier"
   ]
  },
  {
   "cell_type": "code",
   "execution_count": 46,
   "metadata": {
    "collapsed": false,
    "jupyter": {
     "outputs_hidden": false
    }
   },
   "outputs": [
    {
     "data": {
      "text/plain": [
       "LGBMClassifier(boosting_type='gbdt', class_weight=None, colsample_bytree=1.0,\n",
       "               importance_type='split', learning_rate=0.06, max_depth=15,\n",
       "               min_child_samples=20, min_child_weight=0.001, min_split_gain=0.0,\n",
       "               n_estimators=2000, n_jobs=-1, num_leaves=80,\n",
       "               objective='multiclass', random_state=None, reg_alpha=0.0,\n",
       "               reg_lambda=0.0, silent=True, subsample=1.0,\n",
       "               subsample_for_bin=200000, subsample_freq=0)"
      ]
     },
     "execution_count": 46,
     "metadata": {},
     "output_type": "execute_result"
    }
   ],
   "source": [
    "from lightgbm import LGBMClassifier\n",
    "lgbmModel_opt = LGBMClassifier(n_estimators=2000, num_leaves=80, max_depth=15, objective='multiclass',learning_rate=0.06)\n",
    "lgbmModel_opt.fit(X_train_std, y_train)\n",
    "# lgbmModel_opt.fit(X_train_pca, y_train)\n"
   ]
  },
  {
   "cell_type": "code",
   "execution_count": 47,
   "metadata": {
    "collapsed": false,
    "jupyter": {
     "outputs_hidden": false
    }
   },
   "outputs": [
    {
     "name": "stdout",
     "output_type": "stream",
     "text": [
      "Accuracy:  0.5847351242781823\n",
      "R2 value:  0.35822082159434687\n",
      "RMSE:  1.0075038571111772\n",
      "CV Mean:  0.8291020730295129\n",
      "STD:  0.00651627320871088\n",
      "-----------------------------------\n",
      "         Method  accuracy      r2    rmse    mean     std\n",
      "0     LGBM_Opt_      0.58  0.3582  1.0075  0.8291  0.0065\n",
      "1  Logistic Reg      0.53  0.2947  1.0562  0.3458  0.0417\n"
     ]
    }
   ],
   "source": [
    "resultsDf = evaluate_save_model(lgbmModel_opt, X_train_std, y_train, X_test_std, y_test, 'LGBM_Opt_', resultsDf)"
   ]
  },
  {
   "cell_type": "code",
   "execution_count": null,
   "metadata": {
    "collapsed": true,
    "jupyter": {
     "outputs_hidden": true
    }
   },
   "outputs": [],
   "source": [
    "lgbmModel_opt.best_score_\n",
    "lgbmModel_opt.n_features_"
   ]
  },
  {
   "cell_type": "markdown",
   "metadata": {},
   "source": [
    "## Gradient Boosting"
   ]
  },
  {
   "cell_type": "code",
   "execution_count": null,
   "metadata": {
    "collapsed": true,
    "jupyter": {
     "outputs_hidden": true
    }
   },
   "outputs": [],
   "source": [
    "from sklearn.ensemble import GradientBoostingClassifier\n",
    "gBoosting = GradientBoostingClassifier(\n",
    "    max_depth=6,\n",
    "    n_estimators=2000,\n",
    "    learning_rate=0.3\n",
    ")\n",
    "gBoosting.fit(X_train, y_train)"
   ]
  },
  {
   "cell_type": "code",
   "execution_count": null,
   "metadata": {
    "collapsed": true,
    "jupyter": {
     "outputs_hidden": true
    }
   },
   "outputs": [],
   "source": [
    "resultsDf = evaluate_save_model(gBoosting, X_train, y_train, X_test, y_test, 'GBoosting_opt', resultsDf)"
   ]
  },
  {
   "cell_type": "code",
   "execution_count": null,
   "metadata": {
    "collapsed": true,
    "jupyter": {
     "outputs_hidden": true
    }
   },
   "outputs": [],
   "source": []
  },
  {
   "cell_type": "code",
   "execution_count": null,
   "metadata": {
    "collapsed": true,
    "jupyter": {
     "outputs_hidden": true
    }
   },
   "outputs": [],
   "source": []
  },
  {
   "cell_type": "code",
   "execution_count": null,
   "metadata": {
    "collapsed": true,
    "jupyter": {
     "outputs_hidden": true
    }
   },
   "outputs": [],
   "source": [
    "feature_imp = pd.DataFrame(sorted(zip(lgbmModel_opt.feature_importances_, df.drop(['greatstone_rating'],axis=1).columns),reverse=True), columns=['Value','Feature'])\n",
    "feature_imp.head(20)\n",
    "feature_imp.tail(15)['Feature'].values"
   ]
  },
  {
   "cell_type": "code",
   "execution_count": null,
   "metadata": {
    "collapsed": true,
    "jupyter": {
     "outputs_hidden": true
    }
   },
   "outputs": [],
   "source": [
    "master_df['others_rating'].isnull().sum()"
   ]
  },
  {
   "cell_type": "code",
   "execution_count": null,
   "metadata": {
    "collapsed": true,
    "jupyter": {
     "outputs_hidden": true
    }
   },
   "outputs": [],
   "source": []
  },
  {
   "cell_type": "code",
   "execution_count": null,
   "metadata": {
    "collapsed": true,
    "jupyter": {
     "outputs_hidden": true
    }
   },
   "outputs": [],
   "source": []
  },
  {
   "cell_type": "code",
   "execution_count": null,
   "metadata": {
    "collapsed": true,
    "jupyter": {
     "outputs_hidden": true
    }
   },
   "outputs": [],
   "source": [
    "lgbmModel_opt.predict(X_test)"
   ]
  },
  {
   "cell_type": "code",
   "execution_count": null,
   "metadata": {
    "collapsed": true,
    "jupyter": {
     "outputs_hidden": true
    }
   },
   "outputs": [],
   "source": []
  },
  {
   "cell_type": "code",
   "execution_count": null,
   "metadata": {
    "collapsed": true,
    "jupyter": {
     "outputs_hidden": true
    }
   },
   "outputs": [],
   "source": []
  },
  {
   "cell_type": "markdown",
   "metadata": {},
   "source": [
    "## CatBoost"
   ]
  },
  {
   "cell_type": "code",
   "execution_count": null,
   "metadata": {
    "colab": {
     "base_uri": "https://localhost:8080/",
     "height": 68
    },
    "colab_type": "code",
    "collapsed": false,
    "id": "rsCf8xEFvkcg",
    "jupyter": {
     "outputs_hidden": false
    },
    "outputId": "9610b352-7e12-4227-c649-589c0df01dcf"
   },
   "outputs": [],
   "source": [
    "catboost_opt_1 = CatBoostClassifier(\n",
    "    depth=15, iterations= 35, learning_rate= 0.06)\n",
    "catboost_opt_1.fit(X_train, y_train)"
   ]
  },
  {
   "cell_type": "code",
   "execution_count": null,
   "metadata": {
    "colab": {
     "base_uri": "https://localhost:8080/",
     "height": 34
    },
    "colab_type": "code",
    "collapsed": false,
    "id": "zovs3H7lvkfO",
    "jupyter": {
     "outputs_hidden": false
    },
    "outputId": "646fd63e-b230-402a-ec02-27a045333a8f",
    "scrolled": true
   },
   "outputs": [],
   "source": [
    "resultsDf = evaluate_save_model(catboost_opt_1, X_train, y_train, X_test, y_test, 'Catboost-opt_', resultsDf)"
   ]
  },
  {
   "cell_type": "code",
   "execution_count": 53,
   "metadata": {
    "collapsed": false,
    "jupyter": {
     "outputs_hidden": false
    }
   },
   "outputs": [
    {
     "data": {
      "text/html": [
       "<div>\n",
       "<style scoped>\n",
       "    .dataframe tbody tr th:only-of-type {\n",
       "        vertical-align: middle;\n",
       "    }\n",
       "\n",
       "    .dataframe tbody tr th {\n",
       "        vertical-align: top;\n",
       "    }\n",
       "\n",
       "    .dataframe thead th {\n",
       "        text-align: right;\n",
       "    }\n",
       "</style>\n",
       "<table border=\"1\" class=\"dataframe\">\n",
       "  <thead>\n",
       "    <tr style=\"text-align: right;\">\n",
       "      <th></th>\n",
       "      <th>Method</th>\n",
       "      <th>accuracy</th>\n",
       "      <th>r2</th>\n",
       "      <th>rmse</th>\n",
       "      <th>mean</th>\n",
       "      <th>std</th>\n",
       "    </tr>\n",
       "  </thead>\n",
       "  <tbody>\n",
       "    <tr>\n",
       "      <th>0</th>\n",
       "      <td>RandomForest_opt</td>\n",
       "      <td>0.81</td>\n",
       "      <td>0.8344</td>\n",
       "      <td>0.4419</td>\n",
       "      <td>0.7879</td>\n",
       "      <td>0.0154</td>\n",
       "    </tr>\n",
       "    <tr>\n",
       "      <th>1</th>\n",
       "      <td>RandomForest_opt_</td>\n",
       "      <td>0.81</td>\n",
       "      <td>0.8336</td>\n",
       "      <td>0.4430</td>\n",
       "      <td>0.7931</td>\n",
       "      <td>0.0145</td>\n",
       "    </tr>\n",
       "    <tr>\n",
       "      <th>2</th>\n",
       "      <td>RandomForest</td>\n",
       "      <td>0.80</td>\n",
       "      <td>0.8233</td>\n",
       "      <td>0.4564</td>\n",
       "      <td>0.7746</td>\n",
       "      <td>0.0141</td>\n",
       "    </tr>\n",
       "    <tr>\n",
       "      <th>3</th>\n",
       "      <td>RandomForest_opt_std</td>\n",
       "      <td>0.76</td>\n",
       "      <td>0.7821</td>\n",
       "      <td>0.5070</td>\n",
       "      <td>0.7904</td>\n",
       "      <td>0.0148</td>\n",
       "    </tr>\n",
       "    <tr>\n",
       "      <th>4</th>\n",
       "      <td>Catboost-opt</td>\n",
       "      <td>0.75</td>\n",
       "      <td>0.7731</td>\n",
       "      <td>0.5173</td>\n",
       "      <td>0.7236</td>\n",
       "      <td>0.0130</td>\n",
       "    </tr>\n",
       "    <tr>\n",
       "      <th>5</th>\n",
       "      <td>Logistic Reg</td>\n",
       "      <td>0.74</td>\n",
       "      <td>0.7676</td>\n",
       "      <td>0.5235</td>\n",
       "      <td>0.7326</td>\n",
       "      <td>0.0172</td>\n",
       "    </tr>\n",
       "    <tr>\n",
       "      <th>6</th>\n",
       "      <td>DTree</td>\n",
       "      <td>0.70</td>\n",
       "      <td>0.6731</td>\n",
       "      <td>0.6209</td>\n",
       "      <td>0.5930</td>\n",
       "      <td>0.0188</td>\n",
       "    </tr>\n",
       "    <tr>\n",
       "      <th>7</th>\n",
       "      <td>SVM</td>\n",
       "      <td>0.36</td>\n",
       "      <td>-0.0021</td>\n",
       "      <td>1.0871</td>\n",
       "      <td>-0.0001</td>\n",
       "      <td>0.0000</td>\n",
       "    </tr>\n",
       "  </tbody>\n",
       "</table>\n",
       "</div>"
      ],
      "text/plain": [
       "                 Method  accuracy      r2    rmse    mean     std\n",
       "0      RandomForest_opt      0.81  0.8344  0.4419  0.7879  0.0154\n",
       "1     RandomForest_opt_      0.81  0.8336  0.4430  0.7931  0.0145\n",
       "2          RandomForest      0.80  0.8233  0.4564  0.7746  0.0141\n",
       "3  RandomForest_opt_std      0.76  0.7821  0.5070  0.7904  0.0148\n",
       "4          Catboost-opt      0.75  0.7731  0.5173  0.7236  0.0130\n",
       "5          Logistic Reg      0.74  0.7676  0.5235  0.7326  0.0172\n",
       "6                 DTree      0.70  0.6731  0.6209  0.5930  0.0188\n",
       "7                   SVM      0.36 -0.0021  1.0871 -0.0001  0.0000"
      ]
     },
     "execution_count": 53,
     "metadata": {},
     "output_type": "execute_result"
    }
   ],
   "source": [
    "resultsDf"
   ]
  },
  {
   "cell_type": "markdown",
   "metadata": {},
   "source": [
    "## Prediction"
   ]
  },
  {
   "cell_type": "code",
   "execution_count": 87,
   "metadata": {
    "colab": {},
    "colab_type": "code",
    "collapsed": false,
    "id": "qxzCb4p8D24k",
    "jupyter": {
     "outputs_hidden": false
    }
   },
   "outputs": [
    {
     "data": {
      "text/plain": [
       "(5000, 125)"
      ]
     },
     "execution_count": 87,
     "metadata": {},
     "output_type": "execute_result"
    }
   ],
   "source": [
    "prediction_df = pd.read_csv('predict_result.csv')\n",
    "prediction_df.shape"
   ]
  },
  {
   "cell_type": "code",
   "execution_count": 88,
   "metadata": {
    "collapsed": false,
    "jupyter": {
     "outputs_hidden": false
    }
   },
   "outputs": [
    {
     "data": {
      "text/plain": [
       "Blend     2081\n",
       "Growth    1343\n",
       "Value     1301\n",
       "Name: investment_class, dtype: int64"
      ]
     },
     "execution_count": 88,
     "metadata": {},
     "output_type": "execute_result"
    }
   ],
   "source": [
    "prediction_df['investment_class'].value_counts()"
   ]
  },
  {
   "cell_type": "code",
   "execution_count": 89,
   "metadata": {
    "colab": {},
    "colab_type": "code",
    "collapsed": false,
    "id": "I6EDjhdA9m6K",
    "jupyter": {
     "outputs_hidden": false
    }
   },
   "outputs": [
    {
     "name": "stdout",
     "output_type": "stream",
     "text": [
      "<class 'pandas.core.frame.DataFrame'>\n",
      "RangeIndex: 5000 entries, 0 to 4999\n",
      "Data columns (total 5 columns):\n",
      " #   Column          Non-Null Count  Dtype\n",
      "---  ------          --------------  -----\n",
      " 0   currency        5000 non-null   int64\n",
      " 1   inception_date  5000 non-null   int64\n",
      " 2   category        5000 non-null   int64\n",
      " 3   parent_company  5000 non-null   int64\n",
      " 4   fund_name       5000 non-null   int64\n",
      "dtypes: int64(5)\n",
      "memory usage: 195.4 KB\n"
     ]
    },
    {
     "data": {
      "text/plain": [
       "(5000, 125)"
      ]
     },
     "execution_count": 89,
     "metadata": {},
     "output_type": "execute_result"
    }
   ],
   "source": [
    "## Convert all the non categorical columns to numeric\n",
    "categorical_columns = ['3yrs_treynor_ratio_fund', '5yrs_treynor_ratio_fund', 'ps_ratio', 'mmc', 'pc_ratio', 'pe_ratio', '10yrs_treynor_ratio_fund']\n",
    "for col in categorical_columns:\n",
    "    prediction_df[col] = prediction_df[col].replace(',','', regex=True).astype('float')\n",
    "\n",
    "## Converting all the categorical column values to numeric\n",
    "replaceStruct = {\n",
    "    \"investment_class\": {'Blend': 1, 'Growth': 2, 'Value': 3, np.NaN: 0},\n",
    "    \"fund_size\": {'Large': 1, 'Medium': 2, 'Small': 3, np.NaN:0}\n",
    "}\n",
    "\n",
    "prediction_df.replace(replaceStruct, inplace=True)\n",
    "\n",
    "prediction_df['investment_class'] = prediction_df['investment_class'].astype('int')\n",
    "prediction_df['fund_size'] = prediction_df['fund_size'].astype('int')\n",
    "le = LabelEncoder() \n",
    "\n",
    "obj_col_list = prediction_df.select_dtypes('object').columns.tolist()\n",
    "obj_col_list.remove('fund_id')\n",
    "for col in obj_col_list:\n",
    "    prediction_df[col] = le.fit_transform(prediction_df[col])\n",
    "\n",
    "prediction_df[obj_col_list].info()\n",
    "prediction_df.shape"
   ]
  },
  {
   "cell_type": "code",
   "execution_count": 90,
   "metadata": {
    "colab": {
     "base_uri": "https://localhost:8080/",
     "height": 34
    },
    "colab_type": "code",
    "collapsed": false,
    "id": "fk6EnQ9u95-p",
    "jupyter": {
     "outputs_hidden": false
    },
    "outputId": "b03d9905-7be3-4940-bb21-ba117437d126"
   },
   "outputs": [
    {
     "data": {
      "text/plain": [
       "(5000, 130)"
      ]
     },
     "execution_count": 90,
     "metadata": {},
     "output_type": "execute_result"
    }
   ],
   "source": [
    "#Convert the Categorical variable type to category from int data type\n",
    "prediction_df['inception_date'] = pd.to_datetime(prediction_df['inception_date'], format='%Y-%m-%d')\n",
    "prediction_df['Year'] = prediction_df['inception_date'].dt.year\n",
    "prediction_df['Month'] = prediction_df['inception_date'].dt.month\n",
    "prediction_df['DayOfMonth'] = prediction_df['inception_date'].dt.day\n",
    "prediction_df['Weekday'] = prediction_df['inception_date'].dt.dayofweek\n",
    "prediction_df['DayOfYear'] = prediction_df['inception_date'].dt.dayofyear\n",
    "prediction_df['inception_date'] = prediction_df['inception_date'].astype(int)/1e12\n",
    "prediction_df = prediction_df.sort_values('inception_date').reset_index(drop=True)\n",
    "prediction_df.shape"
   ]
  },
  {
   "cell_type": "code",
   "execution_count": 91,
   "metadata": {
    "collapsed": false,
    "jupyter": {
     "outputs_hidden": false
    }
   },
   "outputs": [],
   "source": [
    "def find_cum_sum(col1, col2='', drop=False):\n",
    "    filtered_col = []\n",
    "    for col in prediction_df.drop('greatstone_rating', axis=1).columns:\n",
    "        if( (col.find(col1) != -1) or (col2 != '' and col.find(col2) != -1)):\n",
    "            filtered_col.append(col)\n",
    "    \n",
    "    prediction_df[col1+'_cumsum'] = np.cumsum(prediction_df[filtered_col],axis=1).iloc[:,-1]\n",
    "    prediction_df[col1+'_mean'] = prediction_df[filtered_col].mean(axis=1, skipna=True)\n",
    "    \n",
    "    if(drop):\n",
    "        prediction_df.drop(columns=filtered_col, axis=1, inplace=True)\n",
    "        return \n",
    "  \n",
    "    return prediction_df[filtered_col]"
   ]
  },
  {
   "cell_type": "code",
   "execution_count": 92,
   "metadata": {
    "collapsed": false,
    "jupyter": {
     "outputs_hidden": false
    }
   },
   "outputs": [
    {
     "data": {
      "text/plain": [
       "(5000, 130)"
      ]
     },
     "execution_count": 92,
     "metadata": {},
     "output_type": "execute_result"
    },
    {
     "data": {
      "text/plain": [
       "(5000, 116)"
      ]
     },
     "execution_count": 92,
     "metadata": {},
     "output_type": "execute_result"
    }
   ],
   "source": [
    "prediction_df.shape\n",
    "find_cum_sum('fund_return','return_fund', True)\n",
    "prediction_df.shape"
   ]
  },
  {
   "cell_type": "code",
   "execution_count": 93,
   "metadata": {
    "collapsed": false,
    "jupyter": {
     "outputs_hidden": false
    }
   },
   "outputs": [
    {
     "data": {
      "text/plain": [
       "(5000, 100)"
      ]
     },
     "execution_count": 93,
     "metadata": {},
     "output_type": "execute_result"
    }
   ],
   "source": [
    "cols = ['return_category','fund_std','alpha_fund','beta_fund', 'sharpe_ratio_fund', 'treynor_ratio_fund', 'category_return']\n",
    "for col in cols:\n",
    "    find_cum_sum(col, drop=True)\n",
    "prediction_df.shape"
   ]
  },
  {
   "cell_type": "code",
   "execution_count": 94,
   "metadata": {
    "collapsed": false,
    "jupyter": {
     "outputs_hidden": false
    }
   },
   "outputs": [
    {
     "data": {
      "text/plain": [
       "(5000, 106)"
      ]
     },
     "execution_count": 94,
     "metadata": {},
     "output_type": "execute_result"
    }
   ],
   "source": [
    "cols = ['fund_r_squared', 'mean_annual_fund','rating']\n",
    "for col in cols:\n",
    "  _=find_cum_sum(col, drop=False)\n",
    "prediction_df.shape"
   ]
  },
  {
   "cell_type": "code",
   "execution_count": null,
   "metadata": {
    "collapsed": true,
    "jupyter": {
     "outputs_hidden": true
    }
   },
   "outputs": [],
   "source": []
  },
  {
   "cell_type": "code",
   "execution_count": 95,
   "metadata": {
    "colab": {
     "base_uri": "https://localhost:8080/",
     "height": 34
    },
    "colab_type": "code",
    "collapsed": false,
    "id": "W9e1lLvlaRmJ",
    "jupyter": {
     "outputs_hidden": false
    },
    "outputId": "aad93132-aa80-4b1e-8942-7f6bda9225bf"
   },
   "outputs": [
    {
     "data": {
      "text/plain": [
       "(5000, 96)"
      ]
     },
     "execution_count": 95,
     "metadata": {},
     "output_type": "execute_result"
    },
    {
     "data": {
      "text/plain": [
       "(19912, 95)"
      ]
     },
     "execution_count": 95,
     "metadata": {},
     "output_type": "execute_result"
    }
   ],
   "source": [
    "col = list(df.drop('greatstone_rating', axis=1).columns)\n",
    "col.append('fund_id')\n",
    "res_df = prediction_df[col]\n",
    "res_df = res_df.fillna(res_df.median())\n",
    "res_df.shape\n",
    "X.shape"
   ]
  },
  {
   "cell_type": "code",
   "execution_count": 96,
   "metadata": {
    "colab": {
     "base_uri": "https://localhost:8080/",
     "height": 136
    },
    "colab_type": "code",
    "collapsed": false,
    "id": "5pzvKgEWNDpM",
    "jupyter": {
     "outputs_hidden": false
    },
    "outputId": "8e277ee3-e8c3-4194-fbc8-b62efeba385e"
   },
   "outputs": [
    {
     "data": {
      "text/plain": [
       "array([2., 3., 4., ..., 3., 4., 3.])"
      ]
     },
     "execution_count": 96,
     "metadata": {},
     "output_type": "execute_result"
    }
   ],
   "source": [
    "result_y = rfcl.predict(res_df.drop('fund_id', axis=1))\n",
    "result_y"
   ]
  },
  {
   "cell_type": "code",
   "execution_count": 97,
   "metadata": {
    "colab": {
     "base_uri": "https://localhost:8080/",
     "height": 34
    },
    "colab_type": "code",
    "collapsed": false,
    "id": "Di8M4cm4NDpO",
    "jupyter": {
     "outputs_hidden": false
    },
    "outputId": "95ca2008-e346-4867-ac8d-f920507cf5aa"
   },
   "outputs": [
    {
     "data": {
      "text/plain": [
       "(5000, 96)"
      ]
     },
     "execution_count": 97,
     "metadata": {},
     "output_type": "execute_result"
    },
    {
     "data": {
      "text/plain": [
       "(5000, 97)"
      ]
     },
     "execution_count": 97,
     "metadata": {},
     "output_type": "execute_result"
    },
    {
     "data": {
      "text/plain": [
       "3.0    2092\n",
       "4.0    1176\n",
       "2.0    1075\n",
       "5.0     344\n",
       "1.0     285\n",
       "0.0      28\n",
       "Name: greatstone_rating, dtype: int64"
      ]
     },
     "execution_count": 97,
     "metadata": {},
     "output_type": "execute_result"
    }
   ],
   "source": [
    "res_df.shape\n",
    "res_df['greatstone_rating'] = result_y\n",
    "res_df.shape\n",
    "res_df['greatstone_rating'].value_counts()"
   ]
  },
  {
   "cell_type": "code",
   "execution_count": null,
   "metadata": {
    "colab": {},
    "colab_type": "code",
    "collapsed": true,
    "id": "KVxrywsqNDpW",
    "jupyter": {
     "outputs_hidden": true
    }
   },
   "outputs": [],
   "source": []
  },
  {
   "cell_type": "code",
   "execution_count": null,
   "metadata": {
    "colab": {},
    "colab_type": "code",
    "collapsed": true,
    "id": "KNV_ukKvNDpa",
    "jupyter": {
     "outputs_hidden": true
    }
   },
   "outputs": [],
   "source": []
  },
  {
   "cell_type": "code",
   "execution_count": 98,
   "metadata": {
    "colab": {
     "base_uri": "https://localhost:8080/",
     "height": 71,
     "resources": {
      "http://localhost:8080/nbextensions/google.colab/files.js": {
       "data": "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",
       "headers": [
        [
         "content-type",
         "application/javascript"
        ]
       ],
       "ok": true,
       "status": 200,
       "status_text": ""
      }
     }
    },
    "colab_type": "code",
    "collapsed": false,
    "id": "KG1_Pq6uNDpd",
    "jupyter": {
     "outputs_hidden": false
    },
    "outputId": "436ff3bf-afc4-4df1-f332-36a49b9f83ae"
   },
   "outputs": [
    {
     "ename": "ModuleNotFoundError",
     "evalue": "No module named 'google'",
     "output_type": "error",
     "traceback": [
      "\u001b[0;31m---------------------------------------------------------------------------\u001b[0m",
      "\u001b[0;31mModuleNotFoundError\u001b[0m                       Traceback (most recent call last)",
      "\u001b[0;32m<ipython-input-98-21dc3c638f66>\u001b[0m in \u001b[0;36m<module>\u001b[0;34m\u001b[0m\n\u001b[0;32m----> 1\u001b[0;31m \u001b[0;32mfrom\u001b[0m \u001b[0mgoogle\u001b[0m\u001b[0;34m.\u001b[0m\u001b[0mcolab\u001b[0m \u001b[0;32mimport\u001b[0m \u001b[0mfiles\u001b[0m\u001b[0;34m\u001b[0m\u001b[0m\n\u001b[0m\u001b[1;32m      2\u001b[0m \u001b[0muploaded\u001b[0m \u001b[0;34m=\u001b[0m \u001b[0mfiles\u001b[0m\u001b[0;34m.\u001b[0m\u001b[0mupload\u001b[0m\u001b[0;34m(\u001b[0m\u001b[0;34m)\u001b[0m\u001b[0;34m\u001b[0m\u001b[0m\n",
      "\u001b[0;31mModuleNotFoundError\u001b[0m: No module named 'google'"
     ]
    }
   ],
   "source": [
    "# from google.colab import files\n",
    "# uploaded = files.upload()"
   ]
  },
  {
   "cell_type": "code",
   "execution_count": 99,
   "metadata": {
    "colab": {
     "base_uri": "https://localhost:8080/",
     "height": 34
    },
    "colab_type": "code",
    "collapsed": false,
    "id": "G4XDC_SfNDpg",
    "jupyter": {
     "outputs_hidden": false
    },
    "outputId": "866be844-d4a6-4aa9-d2ac-52a23ba3a519"
   },
   "outputs": [
    {
     "data": {
      "text/plain": [
       "(5000, 2)"
      ]
     },
     "execution_count": 99,
     "metadata": {},
     "output_type": "execute_result"
    }
   ],
   "source": [
    "# Storing the result into sample result file\n",
    "\n",
    "# Read sample result file\n",
    "result_df = pd.read_csv('data/result/sample_submission.csv')\n",
    "result_df.shape"
   ]
  },
  {
   "cell_type": "code",
   "execution_count": 100,
   "metadata": {
    "colab": {
     "base_uri": "https://localhost:8080/",
     "height": 136
    },
    "colab_type": "code",
    "collapsed": false,
    "id": "4S4sTJYuNDph",
    "jupyter": {
     "outputs_hidden": false
    },
    "outputId": "a651db1b-eafb-4573-8c6e-33967c61b688"
   },
   "outputs": [
    {
     "data": {
      "text/plain": [
       "3.0    2092\n",
       "4.0    1176\n",
       "2.0    1075\n",
       "5.0     344\n",
       "1.0     285\n",
       "0.0      28\n",
       "Name: greatstone_rating, dtype: int64"
      ]
     },
     "execution_count": 100,
     "metadata": {},
     "output_type": "execute_result"
    }
   ],
   "source": [
    "def get_result(fund_id, res_df):\n",
    "    \n",
    "    result = res_df.query('fund_id==@fund_id')\n",
    "    if(len(result)>0):\n",
    "        rating = round(result.reset_index()['greatstone_rating'][0])\n",
    "        return rating\n",
    "    \n",
    "result_df['greatstone_rating'] = result_df['fund_id'].apply(lambda x: get_result(str(x).strip(), res_df))\n",
    "result_df['greatstone_rating'].value_counts()\n"
   ]
  },
  {
   "cell_type": "code",
   "execution_count": 101,
   "metadata": {
    "colab": {},
    "colab_type": "code",
    "collapsed": true,
    "id": "9aPae0KGaygS",
    "jupyter": {
     "outputs_hidden": true
    }
   },
   "outputs": [],
   "source": [
    "result_file = 'data/result/sample_result_8.csv'\n",
    "result_df.to_csv(result_file, index=False)\n"
   ]
  },
  {
   "cell_type": "code",
   "execution_count": 102,
   "metadata": {
    "colab": {
     "base_uri": "https://localhost:8080/",
     "height": 436
    },
    "colab_type": "code",
    "collapsed": false,
    "id": "MskqGNrnNDpk",
    "jupyter": {
     "outputs_hidden": false
    },
    "outputId": "a4a8ecec-30e3-40c3-f422-8fd0b9fdac3b"
   },
   "outputs": [
    {
     "data": {
      "text/plain": [
       "0"
      ]
     },
     "execution_count": 102,
     "metadata": {},
     "output_type": "execute_result"
    },
    {
     "data": {
      "text/html": [
       "<div>\n",
       "<style scoped>\n",
       "    .dataframe tbody tr th:only-of-type {\n",
       "        vertical-align: middle;\n",
       "    }\n",
       "\n",
       "    .dataframe tbody tr th {\n",
       "        vertical-align: top;\n",
       "    }\n",
       "\n",
       "    .dataframe thead th {\n",
       "        text-align: right;\n",
       "    }\n",
       "</style>\n",
       "<table border=\"1\" class=\"dataframe\">\n",
       "  <thead>\n",
       "    <tr style=\"text-align: right;\">\n",
       "      <th></th>\n",
       "      <th>fund_id</th>\n",
       "      <th>greatstone_rating</th>\n",
       "    </tr>\n",
       "  </thead>\n",
       "  <tbody>\n",
       "    <tr>\n",
       "      <th>0</th>\n",
       "      <td>85a6edf9-db47-490c-981a-168ce90434bb</td>\n",
       "      <td>4.0</td>\n",
       "    </tr>\n",
       "    <tr>\n",
       "      <th>1</th>\n",
       "      <td>654dac08-5e5d-4cf0-870e-3167087de7d2</td>\n",
       "      <td>2.0</td>\n",
       "    </tr>\n",
       "    <tr>\n",
       "      <th>2</th>\n",
       "      <td>75214019-f876-42a9-a316-328b759ac4ba</td>\n",
       "      <td>4.0</td>\n",
       "    </tr>\n",
       "    <tr>\n",
       "      <th>3</th>\n",
       "      <td>1fe8de6d-cd33-489e-a829-211f1f622eed</td>\n",
       "      <td>3.0</td>\n",
       "    </tr>\n",
       "    <tr>\n",
       "      <th>4</th>\n",
       "      <td>bd87a7a0-6ca5-4607-a0cf-d396ecd6037a</td>\n",
       "      <td>4.0</td>\n",
       "    </tr>\n",
       "    <tr>\n",
       "      <th>...</th>\n",
       "      <td>...</td>\n",
       "      <td>...</td>\n",
       "    </tr>\n",
       "    <tr>\n",
       "      <th>4995</th>\n",
       "      <td>cd0a6c98-3d60-4548-a9db-493d80702107</td>\n",
       "      <td>4.0</td>\n",
       "    </tr>\n",
       "    <tr>\n",
       "      <th>4996</th>\n",
       "      <td>5a824843-621b-469f-a7d3-bae5b78beece</td>\n",
       "      <td>2.0</td>\n",
       "    </tr>\n",
       "    <tr>\n",
       "      <th>4997</th>\n",
       "      <td>acb8601f-bb42-4fe3-9823-c124d38cfc82</td>\n",
       "      <td>4.0</td>\n",
       "    </tr>\n",
       "    <tr>\n",
       "      <th>4998</th>\n",
       "      <td>e3f00c88-98d9-4a44-930c-891513652f8a</td>\n",
       "      <td>4.0</td>\n",
       "    </tr>\n",
       "    <tr>\n",
       "      <th>4999</th>\n",
       "      <td>ef6f6819-2879-41c3-9736-ab1bf4d97869</td>\n",
       "      <td>4.0</td>\n",
       "    </tr>\n",
       "  </tbody>\n",
       "</table>\n",
       "<p>5000 rows × 2 columns</p>\n",
       "</div>"
      ],
      "text/plain": [
       "                                   fund_id  greatstone_rating\n",
       "0     85a6edf9-db47-490c-981a-168ce90434bb                4.0\n",
       "1     654dac08-5e5d-4cf0-870e-3167087de7d2                2.0\n",
       "2     75214019-f876-42a9-a316-328b759ac4ba                4.0\n",
       "3     1fe8de6d-cd33-489e-a829-211f1f622eed                3.0\n",
       "4     bd87a7a0-6ca5-4607-a0cf-d396ecd6037a                4.0\n",
       "...                                    ...                ...\n",
       "4995  cd0a6c98-3d60-4548-a9db-493d80702107                4.0\n",
       "4996  5a824843-621b-469f-a7d3-bae5b78beece                2.0\n",
       "4997  acb8601f-bb42-4fe3-9823-c124d38cfc82                4.0\n",
       "4998  e3f00c88-98d9-4a44-930c-891513652f8a                4.0\n",
       "4999  ef6f6819-2879-41c3-9736-ab1bf4d97869                4.0\n",
       "\n",
       "[5000 rows x 2 columns]"
      ]
     },
     "execution_count": 102,
     "metadata": {},
     "output_type": "execute_result"
    }
   ],
   "source": [
    "result_df['greatstone_rating'].isnull().sum()\n",
    "result_df[['fund_id','greatstone_rating']]\n"
   ]
  },
  {
   "cell_type": "code",
   "execution_count": 103,
   "metadata": {
    "colab": {},
    "colab_type": "code",
    "collapsed": true,
    "id": "BYfLUavyXwPw",
    "jupyter": {
     "outputs_hidden": true
    }
   },
   "outputs": [],
   "source": [
    "# from google.colab import files\n",
    "# files.download(result_file)"
   ]
  },
  {
   "cell_type": "code",
   "execution_count": null,
   "metadata": {
    "collapsed": true,
    "jupyter": {
     "outputs_hidden": true
    }
   },
   "outputs": [],
   "source": []
  },
  {
   "cell_type": "code",
   "execution_count": null,
   "metadata": {
    "collapsed": true,
    "jupyter": {
     "outputs_hidden": true
    }
   },
   "outputs": [],
   "source": []
  },
  {
   "cell_type": "code",
   "execution_count": null,
   "metadata": {
    "collapsed": true,
    "jupyter": {
     "outputs_hidden": true
    }
   },
   "outputs": [],
   "source": []
  },
  {
   "cell_type": "code",
   "execution_count": null,
   "metadata": {
    "collapsed": true,
    "jupyter": {
     "outputs_hidden": true
    }
   },
   "outputs": [],
   "source": []
  },
  {
   "cell_type": "code",
   "execution_count": null,
   "metadata": {
    "collapsed": true,
    "jupyter": {
     "outputs_hidden": true
    }
   },
   "outputs": [],
   "source": []
  },
  {
   "cell_type": "code",
   "execution_count": null,
   "metadata": {
    "collapsed": true,
    "jupyter": {
     "outputs_hidden": true
    }
   },
   "outputs": [],
   "source": []
  }
 ],
 "metadata": {
  "accelerator": "TPU",
  "colab": {
   "collapsed_sections": [
    "Cj0AD8IU4T0p",
    "QOg8sFwM4Z0S",
    "xp3tz-ns4ilS",
    "CypVgOguNDod",
    "56XUDskkNDoq",
    "vHCeJiscma4N",
    "kFARLzq3NDov",
    "EuXSEkOLNDoy",
    "MvArXP1b29Nc",
    "0vcFz5EevloD",
    "sFRTgY6FeCgU",
    "oYw6OwFL7pBF",
    "26IhvOSF9BL8"
   ],
   "name": "Mutual_fund_prediction.ipynb",
   "provenance": []
  },
  "kernelspec": {
   "display_name": "py36",
   "language": "python",
   "name": "py36"
  },
  "language_info": {
   "codemirror_mode": {
    "name": "ipython",
    "version": 3
   },
   "file_extension": ".py",
   "mimetype": "text/x-python",
   "name": "python",
   "nbconvert_exporter": "python",
   "pygments_lexer": "ipython3",
   "version": "3.6.2"
  }
 },
 "nbformat": 4,
 "nbformat_minor": 4
}
